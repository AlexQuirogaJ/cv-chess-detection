{
 "cells": [
  {
   "cell_type": "markdown",
   "id": "91645836",
   "metadata": {},
   "source": [
    "# Chess.com API"
   ]
  },
  {
   "cell_type": "markdown",
   "id": "cebe594e",
   "metadata": {},
   "source": [
    "# Refs"
   ]
  },
  {
   "cell_type": "markdown",
   "id": "d59d57dd",
   "metadata": {},
   "source": [
    "- [Published-Data API](https://support.chess.com/en/articles/9650547-published-data-api)\n",
    "- [Published Data API - Chess.com](https://www.chess.com/news/view/published-data-api)\n",
    "- [Developer Community](https://www.chess.com/club/chess-com-developer-community)\n",
    "\n",
    "Requiere adding `User-Agent: my-profile-tool/1.2 (username: your_username; contact: me@example.com)` to the headers of the request."
   ]
  },
  {
   "cell_type": "markdown",
   "id": "12547b7a",
   "metadata": {},
   "source": [
    "# Imports"
   ]
  },
  {
   "cell_type": "code",
   "execution_count": 2,
   "id": "c169b570",
   "metadata": {},
   "outputs": [],
   "source": [
    "import requests\n",
    "from pprint import pprint\n",
    "from tqdm import tqdm"
   ]
  },
  {
   "cell_type": "code",
   "execution_count": 3,
   "id": "b3db05c4",
   "metadata": {},
   "outputs": [],
   "source": [
    "headers = {\n",
    "    \"Content-Type\": \"application/json\",\n",
    "    \"User-Agent\": \"chess-api-test/0.1 (username: AlexCQJ; contact: alex.c.quiroga.jaldin@gmail.com)\"\n",
    "}"
   ]
  },
  {
   "cell_type": "markdown",
   "id": "a3991358",
   "metadata": {},
   "source": [
    "# TODO"
   ]
  },
  {
   "cell_type": "markdown",
   "id": "27026fd9",
   "metadata": {},
   "source": [
    "- Find event's games (canddiates tournaments, etc.)"
   ]
  },
  {
   "cell_type": "markdown",
   "id": "a3c32ead",
   "metadata": {},
   "source": [
    "# Player profile"
   ]
  },
  {
   "cell_type": "markdown",
   "id": "45bcb09d",
   "metadata": {},
   "source": [
    "- Description: Get additional details about a player in a game. \n",
    "- URL pattern: `https://api.chess.com/pub/player/{username}`\n",
    "- Example: https://api.chess.com/pub/player/erik"
   ]
  },
  {
   "cell_type": "code",
   "execution_count": 4,
   "id": "9c143d23",
   "metadata": {},
   "outputs": [
    {
     "name": "stdout",
     "output_type": "stream",
     "text": [
      "{'@id': 'https://api.chess.com/pub/player/hansontwitch',\n",
      " 'country': 'https://api.chess.com/pub/country/US',\n",
      " 'followers': 5488,\n",
      " 'is_streamer': False,\n",
      " 'joined': 1597255088,\n",
      " 'last_online': 1754869076,\n",
      " 'league': 'Legend',\n",
      " 'name': 'Hans Niemann',\n",
      " 'player_id': 88920388,\n",
      " 'status': 'premium',\n",
      " 'streaming_platforms': [],\n",
      " 'title': 'GM',\n",
      " 'url': 'https://www.chess.com/member/HansOnTwitch',\n",
      " 'username': 'hansontwitch',\n",
      " 'verified': False}\n"
     ]
    }
   ],
   "source": [
    "players_usernames = [\"Hikaru\", \"magnuscarlsen\", \"firouzja2003\", \"gukeshdommaraju\", \"lachesisq\", \"fabianocaruana\", \"hansontwitch\"]\n",
    "\n",
    "username = \"hansontwitch\"\n",
    "url = f\"https://api.chess.com/pub/player/{username}\"\n",
    "\n",
    "response = requests.get(url, headers=headers)\n",
    "if response.status_code == 200:\n",
    "    player_data = response.json()\n",
    "    pprint(player_data)\n",
    "else:\n",
    "    print(f\"Error fetching data for {username}: {response.status_code}\")"
   ]
  },
  {
   "cell_type": "markdown",
   "id": "8184b402",
   "metadata": {},
   "source": [
    "# Titled players"
   ]
  },
  {
   "cell_type": "markdown",
   "id": "d8291350",
   "metadata": {},
   "source": [
    "- Description: List of titled-player usernames.\n",
    "- URL pattern: https://api.chess.com/pub/titled/{title-abbrev}\n",
    "- Valid title abbreviations are: GM, WGM, IM, WIM, FM, WFM, NM, WNM, CM, WCM"
   ]
  },
  {
   "cell_type": "code",
   "execution_count": 5,
   "id": "a4faecb7",
   "metadata": {},
   "outputs": [
    {
     "name": "stdout",
     "output_type": "stream",
     "text": [
      "Keys: dict_keys(['players'])\n",
      "Nº of titled players: 1647\n",
      "['0blivi0usspy',\n",
      " '123lt',\n",
      " '124chess',\n",
      " '1977ivan',\n",
      " '1stsecond',\n",
      " '2bf41-0',\n",
      " '777azazello777',\n",
      " 'a-adly',\n",
      " 'a-fier',\n",
      " 'abasovn',\n",
      " 'abbasifarhassan',\n",
      " 'abbasovfarid1979',\n",
      " 'abdimalik_abdisalimov',\n",
      " 'abhidabhi',\n",
      " 'abhijeetgupta',\n",
      " 'abhijeetgupta1016',\n",
      " 'abhijeetonyoutube',\n",
      " 'abhyak',\n",
      " 'absentzest',\n",
      " 'aceontheturn']\n"
     ]
    }
   ],
   "source": [
    "title_abbrev = \"GM\"\n",
    "url = f\"https://api.chess.com/pub/titled/{title_abbrev}\"\n",
    "\n",
    "response = requests.get(url, headers=headers)\n",
    "if response.status_code == 200:\n",
    "    titled_players = response.json()\n",
    "    print(\"Keys:\", titled_players.keys())\n",
    "    print(\"Nº of titled players:\", len(titled_players[\"players\"]))\n",
    "    pprint(titled_players[\"players\"][0:20])\n",
    "else:\n",
    "    print(f\"Error fetching data for titled players: {response.status_code}\")"
   ]
  },
  {
   "cell_type": "markdown",
   "id": "ed27ab14",
   "metadata": {},
   "source": [
    "# Player stats"
   ]
  },
  {
   "cell_type": "markdown",
   "id": "c03ec521",
   "metadata": {},
   "source": [
    "- Description: Get ratings, win/loss, and other stats about a player's game play, tactics, lessons and Puzzle Rush score.\n",
    "- URL pattern: https://api.chess.com/pub/player/{username}/stats"
   ]
  },
  {
   "cell_type": "code",
   "execution_count": 21,
   "id": "cec80f9a",
   "metadata": {},
   "outputs": [
    {
     "name": "stdout",
     "output_type": "stream",
     "text": [
      "{'chess960_daily': {'best': {'date': 1397073007,\n",
      "                             'game': 'https://www.chess.com/game/daily/87191830',\n",
      "                             'rating': 1489},\n",
      "                    'last': {'date': 1444458214, 'rating': 1231, 'rd': 230},\n",
      "                    'record': {'draw': 0,\n",
      "                               'loss': 2,\n",
      "                               'time_per_move': 32755,\n",
      "                               'timeout_percent': 0,\n",
      "                               'win': 1}},\n",
      " 'chess_blitz': {'best': {'date': 1752009877,\n",
      "                          'game': 'https://www.chess.com/game/live/143904012763',\n",
      "                          'rating': 3416},\n",
      "                 'last': {'date': 1754568108, 'rating': 3315, 'rd': 29},\n",
      "                 'record': {'draw': 4044, 'loss': 5159, 'win': 31855}},\n",
      " 'chess_bullet': {'best': {'date': 1605136047,\n",
      "                           'game': 'https://www.chess.com/game/live/5710095242',\n",
      "                           'rating': 3570},\n",
      "                  'last': {'date': 1752343054, 'rating': 3343, 'rd': 25},\n",
      "                  'record': {'draw': 973, 'loss': 2129, 'win': 15496}},\n",
      " 'chess_daily': {'best': {'date': 1397136740,\n",
      "                          'game': 'https://www.chess.com/game/daily/84604826',\n",
      "                          'rating': 2464},\n",
      "                 'last': {'date': 1744128610, 'rating': 2239, 'rd': 103},\n",
      "                 'record': {'draw': 4,\n",
      "                            'loss': 11,\n",
      "                            'time_per_move': 32755,\n",
      "                            'timeout_percent': 0,\n",
      "                            'win': 73}},\n",
      " 'chess_rapid': {'best': {'date': 1645902514,\n",
      "                          'game': 'https://www.chess.com/game/live/141332265952',\n",
      "                          'rating': 2927},\n",
      "                 'last': {'date': 1754060336, 'rating': 2839, 'rd': 42},\n",
      "                 'record': {'draw': 209, 'loss': 67, 'win': 201}},\n",
      " 'fide': 2814,\n",
      " 'puzzle_rush': {'best': {'score': 123, 'total_attempts': 126}},\n",
      " 'tactics': {'highest': {'date': 1738040754, 'rating': 3937},\n",
      "             'lowest': {'date': 1389043648, 'rating': 695}}}\n"
     ]
    }
   ],
   "source": [
    "username = \"Hikaru\"\n",
    "\n",
    "url = f\"https://api.chess.com/pub/player/{username}/stats\"\n",
    "response = requests.get(url, headers=headers)\n",
    "if response.status_code == 200:\n",
    "    player_stats = response.json()\n",
    "    pprint(player_stats)\n",
    "else:\n",
    "    print(f\"Error fetching stats for {username}: {response.status_code}\")"
   ]
  },
  {
   "cell_type": "markdown",
   "id": "d51e7be5",
   "metadata": {},
   "source": [
    "# Player games"
   ]
  },
  {
   "cell_type": "markdown",
   "id": "6e213e56",
   "metadata": {},
   "source": [
    "There are six endpoints for a player's games: to-move, current, list of available monthly archives, monthly archive, live archive by time control, and downloadable-PGN monthly archive. The to-move, current games, and monthly archive lists use this wrapping data format:\n",
    "\n",
    "{\n",
    "  \"games\": [\n",
    "    /* array of Game objects in ascending game-end-time order */\n",
    "  ]\n",
    "}\n",
    "\n",
    "If no games were played that period (that month, or \"now\"), this is an empty array.\n",
    "\n",
    "These game objects share these element definitions:\n",
    "- pgn: the PGN representation of the game.\n",
    "- rules: to indicate chess-variant play. Possible values are: \"chess\", \"chess960\", \"bughouse\", \"kingofthehill\", \"threecheck\", \"crazyhouse\"\n",
    "- time_class: ratings-group speed of the game. Possible values are: \"daily\", \"rapid\", \"blitz\", \"bullet\".\n",
    "- time_control: specific time control used in the game, in the PGN standard notation.\n",
    "- last_activity: in currently-playing (daily) games, this timestamp represents the time of the last action affecting the game. This may be a move, draw offer, or even a deactivation of the chat window. Omitted in archives, where it is synonymous with the end_time."
   ]
  },
  {
   "cell_type": "markdown",
   "id": "c71bde8b",
   "metadata": {},
   "source": [
    "### Current Daily Chess"
   ]
  },
  {
   "cell_type": "markdown",
   "id": "1f023b8a",
   "metadata": {},
   "source": [
    "- Description: Array of Daily Chess games that a player is currently playing.\n",
    "- URL pattern: https://api.chess.com/pub/player/{username}/games\n",
    "- Example: https://api.chess.com/pub/player/erik/games"
   ]
  },
  {
   "cell_type": "code",
   "execution_count": 23,
   "id": "ad568b02",
   "metadata": {},
   "outputs": [
    {
     "name": "stdout",
     "output_type": "stream",
     "text": [
      "{'games': []}\n"
     ]
    }
   ],
   "source": [
    "username = \"AlexCQJ\"\n",
    "url = f\"https://api.chess.com/pub/player/{username}/games\"\n",
    "\n",
    "response = requests.get(url, headers=headers)\n",
    "if response.status_code == 200:\n",
    "    player_games = response.json()\n",
    "    pprint(player_games)\n",
    "else:\n",
    "    print(f\"Error fetching games for {username}: {response.status_code}\")"
   ]
  },
  {
   "cell_type": "markdown",
   "id": "b8c10002",
   "metadata": {},
   "source": [
    "### Complete Monthly Archives"
   ]
  },
  {
   "cell_type": "markdown",
   "id": "f6e7bd2e",
   "metadata": {},
   "source": [
    "Description: Array of Live and Daily Chess games that a player has finished.\n",
    "URL pattern: https://api.chess.com/pub/player/{username}/games/{YYYY}/{MM}\n",
    "\n",
    "- \"YYYY\" is the four digit year of the game-end\n",
    "- \"MM\" is the two-digit month"
   ]
  },
  {
   "cell_type": "code",
   "execution_count": 6,
   "id": "71e26284",
   "metadata": {},
   "outputs": [
    {
     "name": "stdout",
     "output_type": "stream",
     "text": [
      "Keys:  dict_keys(['games'])\n",
      "games keys:  dict_keys(['url', 'pgn', 'time_control', 'end_time', 'rated', 'accuracies', 'tcn', 'uuid', 'initial_setup', 'fen', 'time_class', 'rules', 'white', 'black', 'eco', 'tournament'])\n",
      "Number of games:  252\n",
      "{'accuracies': {'black': 89.51, 'white': 83.17},\n",
      " 'black': {'@id': 'https://api.chess.com/pub/player/hikaru',\n",
      "           'rating': 3264,\n",
      "           'result': 'win',\n",
      "           'username': 'Hikaru',\n",
      "           'uuid': '6f4deb88-7718-11e3-8016-000000000000'},\n",
      " 'eco': 'https://www.chess.com/openings/French-Defense-St-George-Defense',\n",
      " 'end_time': 1712070418,\n",
      " 'fen': '8/8/1kp5/1p1p1K2/4r3/8/8/7R w - -',\n",
      " 'initial_setup': 'rnbqkbnr/pppppppp/8/8/8/8/PPPPPPPP/RNBQKBNR w KQkq - 0 1',\n",
      " 'pgn': '[Event \"Live Chess\"]\\n'\n",
      "        '[Site \"Chess.com\"]\\n'\n",
      "        '[Date \"2024.04.02\"]\\n'\n",
      "        '[Round \"-\"]\\n'\n",
      "        '[White \"chess_blitz00\"]\\n'\n",
      "        '[Black \"Hikaru\"]\\n'\n",
      "        '[Result \"0-1\"]\\n'\n",
      "        '[Tournament '\n",
      "        '\"https://www.chess.com/tournament/live/early-titled-tuesday-blitz-april-02-2024-4663138\"]\\n'\n",
      "        '[CurrentPosition \"8/8/1kp5/1p1p1K2/4r3/8/8/7R w - -\"]\\n'\n",
      "        '[Timezone \"UTC\"]\\n'\n",
      "        '[ECO \"C00\"]\\n'\n",
      "        '[ECOUrl '\n",
      "        '\"https://www.chess.com/openings/French-Defense-St-George-Defense\"]\\n'\n",
      "        '[UTCDate \"2024.04.02\"]\\n'\n",
      "        '[UTCTime \"15:00:00\"]\\n'\n",
      "        '[WhiteElo \"2551\"]\\n'\n",
      "        '[BlackElo \"3264\"]\\n'\n",
      "        '[TimeControl \"180+1\"]\\n'\n",
      "        '[Termination \"Hikaru won on time\"]\\n'\n",
      "        '[StartTime \"15:00:00\"]\\n'\n",
      "        '[EndDate \"2024.04.02\"]\\n'\n",
      "        '[EndTime \"15:06:58\"]\\n'\n",
      "        '[Link \"https://www.chess.com/game/live/105808883125\"]\\n'\n",
      "        '\\n'\n",
      "        '1. e4 {[%clk 0:03:00.9]} 1... a6 {[%clk 0:02:58.4]} 2. d4 {[%clk '\n",
      "        '0:02:59.1]} 2... e6 {[%clk 0:02:58.1]} 3. Nc3 {[%clk 0:02:58.7]} 3... '\n",
      "        'd5 {[%clk 0:02:57.1]} 4. exd5 {[%clk 0:02:56.7]} 4... exd5 {[%clk '\n",
      "        '0:02:57.1]} 5. Bd3 {[%clk 0:02:57.2]} 5... c6 {[%clk 0:02:57.1]} 6. '\n",
      "        'Bf4 {[%clk 0:02:55]} 6... Bd6 {[%clk 0:02:49.7]} 7. Nge2 {[%clk '\n",
      "        '0:02:08.8]} 7... Bxf4 {[%clk 0:02:38.7]} 8. Nxf4 {[%clk 0:02:08.1]} '\n",
      "        '8... Qf6 {[%clk 0:02:39.6]} 9. Nfe2 {[%clk 0:01:56.4]} 9... Ne7 '\n",
      "        '{[%clk 0:02:33.8]} 10. Qd2 {[%clk 0:01:54.1]} 10... Bf5 {[%clk '\n",
      "        '0:02:32.1]} 11. Bxf5 {[%clk 0:01:38.9]} 11... Nxf5 {[%clk 0:02:33]} '\n",
      "        '12. Qf4 {[%clk 0:01:28]} 12... Nd7 {[%clk 0:02:24.8]} 13. O-O-O '\n",
      "        '{[%clk 0:01:10.4]} 13... O-O-O {[%clk 0:02:21.2]} 14. Ng3 {[%clk '\n",
      "        '0:01:01.6]} 14... Nh4 {[%clk 0:02:20.3]} 15. Qxf6 {[%clk 0:00:55.4]} '\n",
      "        '15... Nxf6 {[%clk 0:02:21.2]} 16. Rhg1 {[%clk 0:00:51.2]} 16... Rde8 '\n",
      "        '{[%clk 0:02:15.4]} 17. f3 {[%clk 0:00:38.7]} 17... Re6 {[%clk '\n",
      "        '0:02:08.9]} 18. Rd2 {[%clk 0:00:34.4]} 18... Rhe8 {[%clk 0:02:08.4]} '\n",
      "        '19. Nge2 {[%clk 0:00:26.1]} 19... g5 {[%clk 0:02:07.9]} 20. Kd1 '\n",
      "        '{[%clk 0:00:23]} 20... h5 {[%clk 0:02:03.5]} 21. Na4 {[%clk '\n",
      "        '0:00:19.3]} 21... Kc7 {[%clk 0:02:02.6]} 22. Nc5 {[%clk 0:00:19.2]} '\n",
      "        '22... R6e7 {[%clk 0:02:02.8]} 23. Nd3 {[%clk 0:00:19.3]} 23... Ng8 '\n",
      "        '{[%clk 0:02:01.1]} 24. a4 {[%clk 0:00:17.4]} 24... Nf5 {[%clk '\n",
      "        '0:02:00]} 25. a5 {[%clk 0:00:14.9]} 25... Ne3+ {[%clk 0:02:00.1]} 26. '\n",
      "        'Kc1 {[%clk 0:00:14.7]} 26... Nc4 {[%clk 0:02:01]} 27. Nc3 {[%clk '\n",
      "        '0:00:13.2]} 27... Nxa5 {[%clk 0:01:58.3]} 28. b3 {[%clk 0:00:12]} '\n",
      "        '28... b6 {[%clk 0:01:58.4]} 29. Ne5 {[%clk 0:00:10.4]} 29... Nb7 '\n",
      "        '{[%clk 0:01:57.1]} 30. Kd1 {[%clk 0:00:06.3]} 30... Nd6 {[%clk '\n",
      "        '0:01:56.3]} 31. Re2 {[%clk 0:00:06.2]} 31... Nh6 {[%clk 0:01:48.7]} '\n",
      "        '32. Rge1 {[%clk 0:00:05.6]} 32... Nhf5 {[%clk 0:01:46.1]} 33. Rd2 '\n",
      "        '{[%clk 0:00:04.5]} 33... f6 {[%clk 0:01:45.5]} 34. Nd3 {[%clk '\n",
      "        '0:00:04.9]} 34... Nxd4 {[%clk 0:01:39.5]} 35. Rxe7+ {[%clk '\n",
      "        '0:00:04.9]} 35... Rxe7 {[%clk 0:01:40.4]} 36. Nb4 {[%clk 0:00:05.4]} '\n",
      "        '36... N6f5 {[%clk 0:01:40.6]} 37. Nxa6+ {[%clk 0:00:04.9]} 37... Kb7 '\n",
      "        '{[%clk 0:01:40.6]} 38. Nb4 {[%clk 0:00:05.3]} 38... Ne6 {[%clk '\n",
      "        '0:01:34.9]} 39. Ne2 {[%clk 0:00:04.4]} 39... Ne3+ {[%clk 0:01:34.7]} '\n",
      "        '40. Ke1 {[%clk 0:00:03.5]} 40... Nxg2+ {[%clk 0:01:35.6]} 41. Kf2 '\n",
      "        '{[%clk 0:00:04]} 41... Ngf4 {[%clk 0:01:36.5]} 42. Nxf4 {[%clk '\n",
      "        '0:00:04]} 42... Nxf4 {[%clk 0:01:36.5]} 43. Nd3 {[%clk 0:00:02.6]} '\n",
      "        '43... Nxd3+ {[%clk 0:01:36.3]} 44. Rxd3 {[%clk 0:00:03.5]} 44... b5 '\n",
      "        '{[%clk 0:01:35.8]} 45. b4 {[%clk 0:00:02.5]} 45... Kb6 {[%clk '\n",
      "        '0:01:36]} 46. c3 {[%clk 0:00:02.8]} 46... h4 {[%clk 0:01:33.1]} 47. '\n",
      "        'h3 {[%clk 0:00:02.3]} 47... Ra7 {[%clk 0:01:32.5]} 48. f4 {[%clk '\n",
      "        '0:00:02.5]} 48... Ra2+ {[%clk 0:01:30.6]} 49. Kf3 {[%clk 0:00:02.8]} '\n",
      "        '49... Rh2 {[%clk 0:01:30.5]} 50. Kg4 {[%clk 0:00:03.3]} 50... Rg2+ '\n",
      "        '{[%clk 0:01:30.3]} 51. Kf5 {[%clk 0:00:03.2]} 51... Rg3 {[%clk '\n",
      "        '0:01:30.8]} 52. Rd1 {[%clk 0:00:03.1]} 52... Rxc3 {[%clk 0:01:27.8]} '\n",
      "        '53. fxg5 {[%clk 0:00:03.5]} 53... fxg5 {[%clk 0:01:28.7]} 54. Kxg5 '\n",
      "        '{[%clk 0:00:02.9]} 54... Rxh3 {[%clk 0:01:28.2]} 55. Rd4 {[%clk '\n",
      "        '0:00:03]} 55... Rc3 {[%clk 0:01:28]} 56. Rxh4 {[%clk 0:00:02.1]} '\n",
      "        '56... Rc4 {[%clk 0:01:28.4]} 57. Rh1 {[%clk 0:00:02.1]} 57... Rxb4 '\n",
      "        '{[%clk 0:01:28.3]} 58. Kf5 {[%clk 0:00:03]} 58... Re4 {[%clk '\n",
      "        '0:01:28.3]} 0-1\\n',\n",
      " 'rated': True,\n",
      " 'rules': 'chess',\n",
      " 'tcn': 'mCWOlB0SbsZJCJSJftYQcD9RgmRDmD7TDm!0dl6LtL0LlD5Zec86mwLFDTZThg78nv8Sdl?8wm2Mcd3Nsy6YyIS0ItT!iyFLyGLudcuAmsAGjrXPtKGXcdXRlm!VgeVLml1TKtLBe080tzRLzOYXOzBSsmLudeuoenoDmDSDztDtltPHrzXPksNFpx0WvDWinvipvEpoELowtdwsDMTMLMsxdBxsBFsAFhAzMLzC',\n",
      " 'time_class': 'blitz',\n",
      " 'time_control': '180+1',\n",
      " 'tournament': 'https://api.chess.com/pub/tournament/early-titled-tuesday-blitz-april-02-2024-4663138',\n",
      " 'url': 'https://www.chess.com/game/live/105808883125',\n",
      " 'uuid': 'ad66a369-f101-11ee-b95b-6cfe544c0428',\n",
      " 'white': {'@id': 'https://api.chess.com/pub/player/chess_blitz00',\n",
      "           'rating': 2551,\n",
      "           'result': 'timeout',\n",
      "           'username': 'chess_blitz00',\n",
      "           'uuid': '168de2ea-65ac-11ee-b57e-c18318a1bc52'}}\n",
      "Tournaments played in April 2024:\n",
      "https://api.chess.com/pub/tournament/gm-hikaru-plays-3363970\n",
      "https://api.chess.com/pub/tournament/bullet-brawl-3340142\n",
      "https://api.chess.com/pub/tournament/late-titled-tuesday-blitz-april-02-2024-4663139\n",
      "https://api.chess.com/pub/tournament/late-titled-tuesday-blitz-april-23-2024-4715472\n",
      "https://api.chess.com/pub/tournament/early-titled-tuesday-blitz-april-16-2024-4701299\n",
      "https://api.chess.com/pub/tournament/early-titled-tuesday-blitz-april-30-2024-4739547\n",
      "https://api.chess.com/pub/tournament/early-titled-tuesday-blitz-april-23-2024-4715471\n",
      "https://api.chess.com/pub/tournament/late-titled-tuesday-blitz-april-30-2024-4739548\n",
      "https://api.chess.com/pub/tournament/late-titled-tuesday-blitz-april-16-2024-4701300\n",
      "https://api.chess.com/pub/tournament/early-titled-tuesday-blitz-april-02-2024-4663138\n"
     ]
    }
   ],
   "source": [
    "username = \"Hikaru\"\n",
    "year = \"2024\"\n",
    "month = \"04\"\n",
    "\n",
    "url = f\"https://api.chess.com/pub/player/{username}/games/{year}/{month}\"\n",
    "response = requests.get(url, headers=headers)\n",
    "if response.status_code == 200:\n",
    "    player_games_archive = response.json()\n",
    "    print(\"Keys: \", player_games_archive.keys())\n",
    "    print(\"games keys: \", player_games_archive[\"games\"][0].keys())\n",
    "    print(\"Number of games: \", len(player_games_archive[\"games\"]))\n",
    "    pprint(player_games_archive[\"games\"][0])\n",
    "else:\n",
    "    print(f\"Error fetching games archive for {username} in {year}-{month}: {response.status_code}\")\n",
    "    \n",
    "tournaments = set()\n",
    "for i in range(len(player_games_archive[\"games\"])):\n",
    "    if \"tournament\" not in player_games_archive[\"games\"][i]:\n",
    "        continue\n",
    "    if player_games_archive[\"games\"][i][\"tournament\"] not in tournaments:\n",
    "        tournaments.add(player_games_archive[\"games\"][i][\"tournament\"])\n",
    "        \n",
    "print(\"Tournaments played in April 2024:\")\n",
    "for tournament in tournaments:\n",
    "    print(tournament)"
   ]
  },
  {
   "cell_type": "markdown",
   "id": "10ca4364",
   "metadata": {},
   "source": [
    "# Player's Tournaments"
   ]
  },
  {
   "cell_type": "markdown",
   "id": "edf4119c",
   "metadata": {},
   "source": [
    "- Description: List of tournaments the player is registered, is attending or has attended in the past.\n",
    "- URL pattern: https://api.chess.com/pub/player/{username}/tournaments"
   ]
  },
  {
   "cell_type": "code",
   "execution_count": 30,
   "id": "fe3c1f18",
   "metadata": {},
   "outputs": [
    {
     "name": "stdout",
     "output_type": "stream",
     "text": [
      "Keys:  dict_keys(['finished', 'in_progress', 'registered'])\n",
      "Number of finished tournaments:  448\n",
      "{'@id': 'https://api.chess.com/pub/tournament/-pro-chess-league-late-qualifier-904885',\n",
      " 'draws': 4,\n",
      " 'losses': 1,\n",
      " 'placement': 2,\n",
      " 'status': 'registered',\n",
      " 'time_class': 'blitz',\n",
      " 'total_players': 53,\n",
      " 'type': 'swiss',\n",
      " 'url': 'https://www.chess.com/tournament/live/-pro-chess-league-late-qualifier-904885',\n",
      " 'wins': 10}\n"
     ]
    }
   ],
   "source": [
    "username = \"Hikaru\"\n",
    "url = f\"https://api.chess.com/pub/player/{username}/tournaments\"\n",
    "\n",
    "response = requests.get(url, headers=headers)\n",
    "if response.status_code == 200:\n",
    "    player_tournaments = response.json()\n",
    "    print(\"Keys: \", player_tournaments.keys())\n",
    "    print(\"Number of finished tournaments: \", len(player_tournaments[\"finished\"]))\n",
    "    pprint(player_tournaments[\"finished\"][1])\n",
    "else:\n",
    "    print(f\"Error fetching tournaments for {username}: {response.status_code}\")"
   ]
  },
  {
   "cell_type": "markdown",
   "id": "08cff6b0",
   "metadata": {},
   "source": [
    "# Tournament"
   ]
  },
  {
   "cell_type": "markdown",
   "id": "04e484b7",
   "metadata": {},
   "source": [
    "- Description: Get details about a daily, live and arena tournament.\n",
    "- URL pattern: https://api.chess.com/pub/tournament/{url-ID} \n",
    "- Example: https://api.chess.com/pub/tournament/-33rd-chesscom-quick-knockouts-1401-1600"
   ]
  },
  {
   "cell_type": "code",
   "execution_count": 34,
   "id": "9735aa0d",
   "metadata": {},
   "outputs": [
    {
     "name": "stdout",
     "output_type": "stream",
     "text": [
      "Keys:  dict_keys(['name', 'url', 'creator', 'status', 'start_time', 'finish_time', 'settings', 'players', 'rounds'])\n",
      "Name:  Early-Titled-Tuesday-Blitz-June-03-2025\n",
      "Number of players:  25\n",
      "Number of rounds:  1\n",
      "['https://api.chess.com/pub/tournament/early-titled-tuesday-blitz-june-03-2025-5713725/11']\n"
     ]
    }
   ],
   "source": [
    "#url_id = \"-33rd-chesscom-quick-knockouts-1401-1600\"\n",
    "#url_id = \"late-titled-tuesday-blitz-may-13-2025-5643227\"\n",
    "url_id = \"early-titled-tuesday-blitz-june-03-2025-5713725\"\n",
    "url = f\"https://api.chess.com/pub/tournament/{url_id}\"\n",
    "response = requests.get(url, headers=headers)\n",
    "if response.status_code == 200:\n",
    "    tournament_details = response.json()\n",
    "    print(\"Keys: \", tournament_details.keys())\n",
    "    print(\"Name: \", tournament_details[\"name\"])\n",
    "    print(\"Number of players: \", len(tournament_details[\"players\"]))\n",
    "    print(\"Number of rounds: \", len(tournament_details[\"rounds\"]))\n",
    "    pprint(tournament_details[\"rounds\"])\n",
    "else:\n",
    "    print(f\"Error fetching tournament details for {url_id}: {response.status_code}\")"
   ]
  },
  {
   "cell_type": "markdown",
   "id": "cd9380cf",
   "metadata": {},
   "source": [
    "# Tournament's round"
   ]
  },
  {
   "cell_type": "markdown",
   "id": "9e773418",
   "metadata": {},
   "source": [
    "- Description: Get details about a tournament's round.\n",
    "- URL pattern: https://api.chess.com/pub/tournament/{url-ID}/{round}\n",
    "- Example: https://api.chess.com/pub/tournament/-33rd-chesscom-quick-knockouts-1401-1600/1"
   ]
  },
  {
   "cell_type": "code",
   "execution_count": 36,
   "id": "c82a79d1",
   "metadata": {},
   "outputs": [
    {
     "name": "stdout",
     "output_type": "stream",
     "text": [
      "Keys:  dict_keys(['groups', 'players'])\n",
      "{'groups': [], 'players': []}\n"
     ]
    }
   ],
   "source": [
    "#tournament_url_id = \"late-titled-tuesday-blitz-may-13-2025-5643227\"\n",
    "tournament_url_id = \"early-titled-tuesday-blitz-june-03-2025-5713725\"\n",
    "round_number = 1\n",
    "url = f\"https://api.chess.com/pub/tournament/{tournament_url_id}/{round_number}\"\n",
    "#url = f\"https://api.chess.com/pub/tournament/late-titled-tuesday-blitz-may-13-2025\"\n",
    "response = requests.get(url, headers=headers)\n",
    "if response.status_code == 200:\n",
    "    tournament_round_details = response.json()\n",
    "    print(\"Keys: \", tournament_round_details.keys())\n",
    "    pprint(tournament_round_details)\n",
    "else:\n",
    "    print(f\"Error fetching tournament round details for {tournament_url_id} round {round_number}: {response.status_code}\")"
   ]
  },
  {
   "cell_type": "markdown",
   "id": "38ac26f1",
   "metadata": {},
   "source": [
    "# Tournament's round group"
   ]
  },
  {
   "cell_type": "markdown",
   "id": "758e1a44",
   "metadata": {},
   "source": [
    "- Description: Get details about a tournament's round group.\n",
    "- URL pattern: https://api.chess.com/pub/tournament/{url-ID}/{round}/{group}\n",
    "- Example: https://api.chess.com/pub/tournament/-33rd-chesscom-quick-knockouts-1401-1600/1/1"
   ]
  },
  {
   "cell_type": "code",
   "execution_count": 6,
   "id": "07e7a231",
   "metadata": {},
   "outputs": [
    {
     "name": "stdout",
     "output_type": "stream",
     "text": [
      "Keys:  dict_keys(['fair_play_removals', 'games', 'players'])\n",
      "Number of games in this round: 20\n",
      "{'black': {'@id': 'https://api.chess.com/pub/player/mrtn',\n",
      "           'rating': 1533,\n",
      "           'result': 'insufficient',\n",
      "           'username': 'mrtn',\n",
      "           'uuid': 'becac6e8-bfeb-11dd-802c-000000000000'},\n",
      " 'end_time': 1468307842,\n",
      " 'fen': '8/8/8/8/8/2B5/3k4/1K6 b - - 0 69',\n",
      " 'pgn': '[Event \"33rd Chess.com Quick Knockouts (1401-1600) - Round 1\"]\\n'\n",
      "        '[Site \"Chess.com\"]\\n'\n",
      "        '[Date \"2016.07.02\"]\\n'\n",
      "        '[Round \"-\"]\\n'\n",
      "        '[White \"Rockaround\"]\\n'\n",
      "        '[Black \"mrtn\"]\\n'\n",
      "        '[Result \"1/2-1/2\"]\\n'\n",
      "        '[Tournament '\n",
      "        '\"https://www.chess.com/tournament/-33rd-chesscom-quick-knockouts-1401-1600\"]\\n'\n",
      "        '[CurrentPosition \"8/8/8/8/8/2B5/3k4/1K6 b - - 0 69\"]\\n'\n",
      "        '[Timezone \"UTC\"]\\n'\n",
      "        '[ECO \"C47\"]\\n'\n",
      "        '[ECOUrl '\n",
      "        '\"https://www.chess.com/openings/Four-Knights-Game-Italian-Variation\"]\\n'\n",
      "        '[UTCDate \"2016.07.02\"]\\n'\n",
      "        '[UTCTime \"02:16:59\"]\\n'\n",
      "        '[WhiteElo \"1428\"]\\n'\n",
      "        '[BlackElo \"1533\"]\\n'\n",
      "        '[TimeControl \"1/86400\"]\\n'\n",
      "        '[Termination \"Game drawn by insufficient material\"]\\n'\n",
      "        '[StartTime \"02:16:59\"]\\n'\n",
      "        '[EndDate \"2016.07.12\"]\\n'\n",
      "        '[EndTime \"07:17:22\"]\\n'\n",
      "        '[Link \"https://www.chess.com/game/daily/138891582\"]\\n'\n",
      "        '\\n'\n",
      "        '1. e4 e5 2. Nf3 Nc6 3. Nc3 Nf6 4. Bc4 h6 5. a3 Bc5 6. d3 Ng4 7. O-O '\n",
      "        'd6 8. Nd5 Be6 9. b4 Bd4 10. Nxd4 Nxd4 11. Bb2 b5 12. Ba2 c6 13. Nc3 '\n",
      "        'Qh4 14. h3 Nf6 15. Bxe6 Nxe6 16. Qf3 Qf4 17. Qxf4 Nxf4 18. Rad1 g5 '\n",
      "        '19. d4 exd4 20. Rxd4 Rd8 21. a4 a6 22. e5 dxe5 23. Rxd8+ Kxd8 24. '\n",
      "        'Rd1+ Kc8 25. axb5 axb5 26. Ra1 Kb7 27. Bc1 N6d5 28. Nxd5 Nxd5 29. Bb2 '\n",
      "        'f6 30. c3 Ra8 31. Rxa8 Kxa8 32. g4 Nf4 33. Kh2 Nd3 34. Ba3 Nxf2 35. '\n",
      "        'Kg2 Ne4 36. Kf3 Nxc3 37. Bb2 Nd5 38. Ba3 Kb7 39. Ke4 Ne7 40. Bc1 Kc7 '\n",
      "        '41. Be3 Kd7 42. Bc5 Ke6 43. Bb6 Kd6 44. Bc5+ Ke6 45. Bb6 Ng6 46. Bc5 '\n",
      "        'Nf4 47. Bf8 Nxh3 48. Bxh6 Nf2+ 49. Kf3 Nxg4 50. Kxg4 e4 51. Kg3 Kd5 '\n",
      "        '52. Bg7 f5 53. Bf8 Kd4 54. Be7 f4+ 55. Kg4 e3 56. Bxg5 Kc4 57. Be7 e2 '\n",
      "        '58. Bh4 Kxb4 59. Kxf4 Kc3 60. Ke3 c5 61. Kxe2 Kc2 62. Be7 c4 63. Bc5 '\n",
      "        'Kc3 64. Kd1 b4 65. Kc1 b3 66. Kb1 b2 67. Ba3 Kd2 68. Bxb2 c3 69. '\n",
      "        'Bxc3+ 1/2-1/2\\n',\n",
      " 'rated': True,\n",
      " 'rules': 'chess',\n",
      " 'start_time': 1467425819,\n",
      " 'time_class': 'daily',\n",
      " 'time_control': '1/86400',\n",
      " 'tournament': 'https://api.chess.com/pub/tournament/-33rd-chesscom-quick-knockouts-1401-1600',\n",
      " 'url': 'https://www.chess.com/game/daily/138891582',\n",
      " 'white': {'@id': 'https://api.chess.com/pub/player/rockaround',\n",
      "           'rating': 1428,\n",
      "           'result': 'insufficient',\n",
      "           'username': 'Rockaround',\n",
      "           'uuid': '7080aa8a-1172-11e6-8048-000000000000'}}\n"
     ]
    }
   ],
   "source": [
    "tournament_round_url = \"https://api.chess.com/pub/tournament/-33rd-chesscom-quick-knockouts-1401-1600/1/1\"\n",
    "\n",
    "response = requests.get(tournament_round_url, headers=headers)\n",
    "if response.status_code == 200:\n",
    "    tournament_round_details = response.json()\n",
    "    print(\"Keys: \", tournament_round_details.keys())\n",
    "    games = tournament_round_details.get(\"games\", [])\n",
    "    print(f\"Number of games in this round: {len(games)}\")\n",
    "    pprint(games[0])\n",
    "else:\n",
    "    print(f\"Error fetching tournament round details for {tournament_round_url}\")"
   ]
  },
  {
   "cell_type": "markdown",
   "id": "de8308f6",
   "metadata": {},
   "source": [
    "# Get all tournament's games"
   ]
  },
  {
   "cell_type": "code",
   "execution_count": 13,
   "id": "1ee8dc4e",
   "metadata": {},
   "outputs": [
    {
     "name": "stdout",
     "output_type": "stream",
     "text": [
      "==== Tournament Details ====\n",
      "Keys:  dict_keys(['name', 'url', 'description', 'creator', 'status', 'finish_time', 'settings', 'players', 'rounds'])\n",
      "Name:  33rd Chess.com Quick Knockouts (1401-1600)\n",
      "Number of players:  399\n",
      "Number of rounds:  4\n"
     ]
    },
    {
     "name": "stderr",
     "output_type": "stream",
     "text": [
      " 25%|██▌       | 1/4 [00:00<00:00,  5.31it/s]"
     ]
    },
    {
     "name": "stdout",
     "output_type": "stream",
     "text": [
      "Number of groups in round https://api.chess.com/pub/tournament/-33rd-chesscom-quick-knockouts-1401-1600/1: 67\n"
     ]
    },
    {
     "name": "stderr",
     "output_type": "stream",
     "text": [
      " 50%|█████     | 2/4 [00:00<00:00,  5.45it/s]"
     ]
    },
    {
     "name": "stdout",
     "output_type": "stream",
     "text": [
      "Number of groups in round https://api.chess.com/pub/tournament/-33rd-chesscom-quick-knockouts-1401-1600/2: 78\n"
     ]
    },
    {
     "name": "stderr",
     "output_type": "stream",
     "text": [
      " 75%|███████▌  | 3/4 [00:00<00:00,  5.33it/s]"
     ]
    },
    {
     "name": "stdout",
     "output_type": "stream",
     "text": [
      "Number of groups in round https://api.chess.com/pub/tournament/-33rd-chesscom-quick-knockouts-1401-1600/3: 80\n"
     ]
    },
    {
     "name": "stderr",
     "output_type": "stream",
     "text": [
      "100%|██████████| 4/4 [00:00<00:00,  5.39it/s]\n"
     ]
    },
    {
     "name": "stdout",
     "output_type": "stream",
     "text": [
      "Number of groups in round https://api.chess.com/pub/tournament/-33rd-chesscom-quick-knockouts-1401-1600/4: 81\n"
     ]
    },
    {
     "name": "stderr",
     "output_type": "stream",
     "text": [
      "100%|██████████| 81/81 [00:33<00:00,  2.41it/s]"
     ]
    },
    {
     "name": "stdout",
     "output_type": "stream",
     "text": [
      "Total number of games in all rounds: 2352\n"
     ]
    },
    {
     "name": "stderr",
     "output_type": "stream",
     "text": [
      "\n"
     ]
    }
   ],
   "source": [
    "tournament_url_id = \"-33rd-chesscom-quick-knockouts-1401-1600\"\n",
    "\n",
    "def get_tournament_rounds(tournament_url_id):\n",
    "    url = f\"https://api.chess.com/pub/tournament/{tournament_url_id}\"\n",
    "    response = requests.get(url, headers=headers)\n",
    "    if response.status_code == 200:\n",
    "        tournament_details = response.json()\n",
    "        print(\"==== Tournament Details ====\")\n",
    "        print(\"Keys: \", tournament_details.keys())\n",
    "        print(\"Name: \", tournament_details[\"name\"])\n",
    "        print(\"Number of players: \", len(tournament_details[\"players\"]))\n",
    "        print(\"Number of rounds: \", len(tournament_details[\"rounds\"]))\n",
    "        rounds_urls = tournament_details[\"rounds\"]\n",
    "        return rounds_urls\n",
    "    else:\n",
    "        print(f\"Error fetching tournament details for {url_id}: {response.status_code}\")\n",
    "        return []\n",
    "        \n",
    "    \n",
    "def get_tournament_round_groups(round_urls):\n",
    "    groups_urls = []\n",
    "    \n",
    "    for round_url in tqdm(round_urls):\n",
    "        response = requests.get(round_url, headers=headers)\n",
    "        if response.status_code == 200:\n",
    "            round_details = response.json()\n",
    "            groups_urls += round_details.get(\"groups\", [])\n",
    "            print(f\"Number of groups in round {round_url}: {len(groups_urls)}\")\n",
    "        else:\n",
    "            print(f\"Error fetching round details for {round_url}: {response.status_code}\")\n",
    "    return groups_urls\n",
    "\n",
    "\n",
    "def get_games_in_rounds(round_urls):\n",
    "    games = []\n",
    "    \n",
    "    for round_url in tqdm(round_urls):\n",
    "        response = requests.get(round_url, headers=headers)\n",
    "        if response.status_code == 200:\n",
    "            round_details = response.json()\n",
    "            games += round_details.get(\"games\", [])\n",
    "        else:\n",
    "            print(f\"Error fetching round details for {round_url}: {response.status_code}\")\n",
    "            \n",
    "    print(f\"Total number of games in all rounds: {len(games)}\")\n",
    "    return games\n",
    "    \n",
    "rounds_urls = get_tournament_rounds(tournament_url_id)\n",
    "groups_urls = get_tournament_round_groups(rounds_urls)\n",
    "games = get_games_in_rounds(groups_urls)\n"
   ]
  }
 ],
 "metadata": {
  "kernelspec": {
   "display_name": "computer_vision",
   "language": "python",
   "name": "python3"
  },
  "language_info": {
   "codemirror_mode": {
    "name": "ipython",
    "version": 3
   },
   "file_extension": ".py",
   "mimetype": "text/x-python",
   "name": "python",
   "nbconvert_exporter": "python",
   "pygments_lexer": "ipython3",
   "version": "3.12.0"
  }
 },
 "nbformat": 4,
 "nbformat_minor": 5
}
