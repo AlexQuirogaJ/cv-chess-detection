{
 "cells": [
  {
   "cell_type": "markdown",
   "id": "e08fa98f",
   "metadata": {},
   "source": [
    "# Classification model for chess squares"
   ]
  },
  {
   "cell_type": "markdown",
   "id": "19960749",
   "metadata": {},
   "source": [
    "# Imports"
   ]
  },
  {
   "cell_type": "code",
   "execution_count": 1,
   "id": "529e3af6",
   "metadata": {},
   "outputs": [],
   "source": [
    "import os\n",
    "import cv2\n",
    "import numpy as np\n",
    "import json\n",
    "import mlflow\n",
    "\n",
    "import torch\n",
    "import torch.nn as nn\n",
    "from torch.utils.data import Dataset, DataLoader\n",
    "import pathlib\n",
    "\n",
    "import matplotlib.pyplot as plt\n",
    "\n",
    "from torchinfo import summary\n",
    "import torchvision.transforms as transforms\n",
    "from sklearn.preprocessing import LabelEncoder\n",
    "from tqdm import tqdm\n",
    "\n",
    "import mlflow.pytorch\n",
    "import mlflow\n",
    "\n",
    "from sklearn.metrics import (\n",
    "    accuracy_score,\n",
    "    precision_recall_fscore_support,\n",
    "    confusion_matrix,\n",
    "    classification_report\n",
    ")\n",
    "import seaborn as sns\n",
    "\n",
    "from pprint import pprint"
   ]
  },
  {
   "cell_type": "markdown",
   "id": "84295e15",
   "metadata": {},
   "source": [
    "# Device"
   ]
  },
  {
   "cell_type": "code",
   "execution_count": 2,
   "id": "ffa15fdb",
   "metadata": {},
   "outputs": [
    {
     "name": "stdout",
     "output_type": "stream",
     "text": [
      "Using device: mps\n"
     ]
    }
   ],
   "source": [
    "if torch.cuda.is_available():\n",
    "    device = torch.device(\"cuda\")\n",
    "elif torch.backends.mps.is_available():\n",
    "    device = torch.device(\"mps\")  # Apple GPU\n",
    "else:\n",
    "    device = torch.device(\"cpu\")\n",
    "\n",
    "print(f\"Using device: {device}\")"
   ]
  },
  {
   "cell_type": "markdown",
   "id": "bdfbc7aa",
   "metadata": {},
   "source": [
    "# Dataset class"
   ]
  },
  {
   "cell_type": "code",
   "execution_count": 4,
   "id": "90585146",
   "metadata": {},
   "outputs": [
    {
     "name": "stdout",
     "output_type": "stream",
     "text": [
      "Number of training samples: 41472\n",
      "Number of testing samples: 5056\n",
      "Number of validation samples: 8128\n"
     ]
    }
   ],
   "source": [
    "class Chess2dRenderedDataset(Dataset):\n",
    "    def __init__(self, imgs_dir, labels_dir, class2id):\n",
    "        self.imgs_dir = imgs_dir\n",
    "        self.labels_dir = labels_dir\n",
    "        \n",
    "        self.board_img_paths = [os.path.join(imgs_dir, img) for img in sorted(os.listdir(imgs_dir))]\n",
    "        self.labels_paths = [os.path.join(labels_dir, label) for label in sorted(os.listdir(labels_dir))]\n",
    "        self.samples = []\n",
    "        \n",
    "        for img_path, label_path in zip(self.board_img_paths, self.labels_paths):\n",
    "            # 64 squares per image\n",
    "            for row in range(8):\n",
    "                for col in range(8):\n",
    "                    self.samples.append((img_path, label_path, row, col))\n",
    "                    \n",
    "                    \n",
    "        self.transform = transforms.ToTensor() # Convert images to tensors (0-255 -> 0-1)\n",
    "        \n",
    "        self.class2id = class2id # Dictionary mapping class names to IDs\n",
    "                    \n",
    "        \n",
    "    def __len__(self):\n",
    "        return len(self.samples)\n",
    "    \n",
    "    \n",
    "    def __getitem__(self, idx):\n",
    "        img_path, label_path, row, col = self.samples[idx]\n",
    "        \n",
    "        # Constants\n",
    "        SQUARE_SIZE = 60\n",
    "        BOARD_PADDING = 0 # Percentage of padding around the square\n",
    "        \n",
    "        # Load the image\n",
    "        img = cv2.imread(img_path)\n",
    "        img = cv2.cvtColor(img, cv2.COLOR_BGR2RGB)  # Convert BGR to RGB\n",
    "        \n",
    "        # Crop the board padding\n",
    "        h, w = img.shape[:2]\n",
    "        start_h = int(h * BOARD_PADDING // 100)\n",
    "        start_w = int(w * BOARD_PADDING // 100)\n",
    "        img = img[start_h:h-start_h, start_w:w-start_w]\n",
    "        \n",
    "        # Crop the specific square\n",
    "        img = cv2.resize(img, (8 * SQUARE_SIZE, 8 * SQUARE_SIZE))\n",
    "        square_img = img[row*SQUARE_SIZE:(row+1)*SQUARE_SIZE, col*SQUARE_SIZE:(col+1)*SQUARE_SIZE]\n",
    "        \n",
    "        # Load the label\n",
    "        with open(label_path, 'r') as f:\n",
    "            label_arr = np.loadtxt(f, delimiter=',', dtype=str)\n",
    "            \n",
    "        square_label = label_arr[row, col]\n",
    "        \n",
    "        # Move the channel dimension to the front\n",
    "        #square_img = np.transpose(square_img, (1, 2, 0)) # Dont need (transoform already does this)\n",
    "        \n",
    "        square_img_tensor = self.transform(square_img)  # Convert to tensor (3, 60, 60)\n",
    "        \n",
    "        # Convert label to class ID\n",
    "        square_label = self.class2id.get(square_label, -1)  # Use -1 for unknown labels\n",
    "        \n",
    "        return square_img_tensor, square_label\n",
    "    \n",
    "\n",
    "try:\n",
    "    # This works in .py files\n",
    "    base_dir = os.path.dirname(os.path.abspath(__file__))\n",
    "except NameError:\n",
    "    # Fallback for Jupyter notebooks\n",
    "    base_dir = os.getcwd()\n",
    "\n",
    "#DATASET_NAME = \"chessboard_2d_rendered\"\n",
    "DATASET_NAME = \"chessboard_2d_rendered_aug\"\n",
    "#save_dir = pathlib.Path(base_dir).parent / \"data\" / \"chessboard_2d_rendered\"\n",
    "save_dir = pathlib.Path(base_dir).parent / \"data\" / DATASET_NAME\n",
    "labels_mapping_path = save_dir / \"labels_mapping.json\"\n",
    "\n",
    "with open(labels_mapping_path, 'r') as f:\n",
    "    labels_map = json.load(f)\n",
    "\n",
    "\n",
    "train_imgs_dir = save_dir / \"train\" / \"images\"\n",
    "train_labels_dir = save_dir / \"train\" / \"labels\"\n",
    "\n",
    "train_dataset = Chess2dRenderedDataset(\n",
    "    imgs_dir=train_imgs_dir,\n",
    "    labels_dir=train_labels_dir,\n",
    "    class2id=labels_map[\"class2id\"]\n",
    ")\n",
    "\n",
    "test_imgs_dir = save_dir / \"test\" / \"images\"\n",
    "test_labels_dir = save_dir / \"test\" / \"labels\"\n",
    "test_dataset = Chess2dRenderedDataset(\n",
    "    imgs_dir=test_imgs_dir,\n",
    "    labels_dir=test_labels_dir,\n",
    "    class2id=labels_map[\"class2id\"]\n",
    ")\n",
    "\n",
    "validation_imgs_dir = save_dir / \"validation\" / \"images\"\n",
    "validation_labels_dir = save_dir / \"validation\" / \"labels\"  \n",
    "\n",
    "validation_dataset = Chess2dRenderedDataset(\n",
    "    imgs_dir=validation_imgs_dir,\n",
    "    labels_dir=validation_labels_dir,\n",
    "    class2id=labels_map[\"class2id\"]\n",
    ")\n",
    "    \n",
    "print(f\"Number of training samples: {len(train_dataset)}\")\n",
    "print(f\"Number of testing samples: {len(test_dataset)}\")\n",
    "print(f\"Number of validation samples: {len(validation_dataset)}\")"
   ]
  },
  {
   "cell_type": "markdown",
   "id": "11984295",
   "metadata": {},
   "source": [
    "### Sample example"
   ]
  },
  {
   "cell_type": "code",
   "execution_count": 7,
   "id": "0ccf2201",
   "metadata": {},
   "outputs": [
    {
     "name": "stdout",
     "output_type": "stream",
     "text": [
      "Sample image shape: torch.Size([3, 60, 60])\n",
      "Sample label: 11\n",
      "Sample image numpy shape: (3, 60, 60)\n",
      "Sample image numpy transposed shape: (60, 60, 3)\n"
     ]
    },
    {
     "data": {
      "text/plain": [
       "<matplotlib.image.AxesImage at 0x15d1b3950>"
      ]
     },
     "execution_count": 7,
     "metadata": {},
     "output_type": "execute_result"
    },
    {
     "data": {
      "image/png": "[encoded data removed]",
      "text/plain": [
       "<Figure size 640x480 with 1 Axes>"
      ]
     },
     "metadata": {},
     "output_type": "display_data"
    }
   ],
   "source": [
    "sample_img, sample_label = validation_dataset[3]\n",
    "\n",
    "print(f\"Sample image shape: {sample_img.shape}\")\n",
    "print(f\"Sample label: {sample_label}\")\n",
    "\n",
    "img_np = sample_img.numpy()\n",
    "print(f\"Sample image numpy shape: {img_np.shape}\")\n",
    "img_np = np.transpose(img_np, (1, 2, 0))  # Move channels to last dimension for plotting\n",
    "print(f\"Sample image numpy transposed shape: {img_np.shape}\")\n",
    "\n",
    "plt.imshow(img_np)"
   ]
  },
  {
   "cell_type": "markdown",
   "id": "9cd16db1",
   "metadata": {},
   "source": [
    "# Data loader"
   ]
  },
  {
   "cell_type": "code",
   "execution_count": 8,
   "id": "8ac439a8",
   "metadata": {},
   "outputs": [
    {
     "name": "stdout",
     "output_type": "stream",
     "text": [
      "Batch image shape: torch.Size([64, 3, 60, 60])\n",
      "Batch labels shape: 64\n",
      "tensor([ 4,  0,  6,  0,  0,  0,  0,  0,  0,  0,  0,  0, 10,  0,  0,  0,  0,  0,\n",
      "         9,  0,  0,  2,  4,  0,  7,  0, 11,  0,  0,  4,  0,  0,  0,  0,  0,  0,\n",
      "         0,  0,  6,  0,  0,  2,  6,  0,  0,  2, 10,  0,  0,  0,  4,  0,  2, 10,\n",
      "         6, 10,  0,  0,  0, 10,  6,  3,  0,  0])\n"
     ]
    }
   ],
   "source": [
    "train_dataloader = DataLoader(train_dataset, batch_size=64, shuffle= True)\n",
    "test_dataloader = DataLoader(test_dataset, batch_size=64, shuffle= True)\n",
    "validation_dataloader = DataLoader(validation_dataset, batch_size=64, shuffle= True)\n",
    "\n",
    "train_imgs_batch, train_labels_batch = next(iter(train_dataloader))\n",
    "print(f\"Batch image shape: {train_imgs_batch.shape}\")\n",
    "print(f\"Batch labels shape: {len(train_labels_batch)}\")\n",
    "\n",
    "print(train_labels_batch)"
   ]
  },
  {
   "cell_type": "markdown",
   "id": "fa654aa8",
   "metadata": {},
   "source": [
    "# Classification model"
   ]
  },
  {
   "cell_type": "markdown",
   "id": "0c18a3e4",
   "metadata": {},
   "source": [
    "## Dimensions"
   ]
  },
  {
   "cell_type": "markdown",
   "id": "b3c4335b",
   "metadata": {},
   "source": [
    "- Convolution without stride:\n",
    "    $$\n",
    "    Out = (W_{in} + 2P) - K + 1\n",
    "    $$\n",
    "- Convolution with stride\n",
    "    $$\n",
    "    Out = \\left\\lfloor \\frac{W_{in} + 2P - K}{S} \\right\\rfloor + 1\n",
    "    $$"
   ]
  },
  {
   "cell_type": "markdown",
   "id": "3158d689",
   "metadata": {},
   "source": [
    "## AlexNet\n",
    "Consists of eight hidden layers with ReLU activation functions of which the first 5 are convolutional and the rest fully connected. \n",
    "\n",
    "![Architecture](images/alexnet.png)\n",
    "\n",
    "- Input shape: (224, 224, 3)\n",
    "- Conv-1 11x11 (Stride 4): (55, 55, 96)\n",
    "- MaxPool\n",
    "- Conv-2 5x5: (27, 27, 256)\n",
    "- MaxPool\n",
    "- Conv-3 3x3: (13, 13, 384)\n",
    "- Conv-4 3x3: (13, 13, 384)\n",
    "- Conv-5 3x3: (13, 13, 256)\n",
    "- MaxPool: (6, 6, 256)\n",
    "- Flatten: (9216)\n",
    "- Fully Connected: 4096\n",
    "- Fully Connected: 4096\n",
    "- Fully Connected: 1000\n",
    "- Softmax: (1000)\n"
   ]
  },
  {
   "cell_type": "code",
   "execution_count": null,
   "id": "c7608a9b",
   "metadata": {},
   "outputs": [
    {
     "data": {
      "text/plain": [
       "==========================================================================================\n",
       "Layer (type:depth-idx)                   Output Shape              Param #\n",
       "==========================================================================================\n",
       "AlexNet                                  [64, 1000]                --\n",
       "├─Sequential: 1-1                        [64, 256, 6, 6]           --\n",
       "│    └─Conv2d: 2-1                       [64, 96, 55, 55]          34,944\n",
       "│    └─ReLU: 2-2                         [64, 96, 55, 55]          --\n",
       "│    └─MaxPool2d: 2-3                    [64, 96, 27, 27]          --\n",
       "│    └─Conv2d: 2-4                       [64, 256, 27, 27]         614,656\n",
       "│    └─ReLU: 2-5                         [64, 256, 27, 27]         --\n",
       "│    └─MaxPool2d: 2-6                    [64, 256, 13, 13]         --\n",
       "│    └─Conv2d: 2-7                       [64, 384, 13, 13]         885,120\n",
       "│    └─ReLU: 2-8                         [64, 384, 13, 13]         --\n",
       "│    └─Conv2d: 2-9                       [64, 384, 13, 13]         1,327,488\n",
       "│    └─ReLU: 2-10                        [64, 384, 13, 13]         --\n",
       "│    └─Conv2d: 2-11                      [64, 256, 13, 13]         884,992\n",
       "│    └─ReLU: 2-12                        [64, 256, 13, 13]         --\n",
       "│    └─MaxPool2d: 2-13                   [64, 256, 6, 6]           --\n",
       "├─Sequential: 1-2                        [64, 1000]                --\n",
       "│    └─Dropout: 2-14                     [64, 9216]                --\n",
       "│    └─Linear: 2-15                      [64, 4096]                37,752,832\n",
       "│    └─ReLU: 2-16                        [64, 4096]                --\n",
       "│    └─Dropout: 2-17                     [64, 4096]                --\n",
       "│    └─Linear: 2-18                      [64, 4096]                16,781,312\n",
       "│    └─ReLU: 2-19                        [64, 4096]                --\n",
       "│    └─Linear: 2-20                      [64, 1000]                4,097,000\n",
       "==========================================================================================\n",
       "Total params: 62,378,344\n",
       "Trainable params: 62,378,344\n",
       "Non-trainable params: 0\n",
       "Total mult-adds (Units.GIGABYTES): 72.70\n",
       "==========================================================================================\n",
       "Input size (MB): 38.54\n",
       "Forward/backward pass size (MB): 337.55\n",
       "Params size (MB): 249.51\n",
       "Estimated Total Size (MB): 625.60\n",
       "=========================================================================================="
      ]
     },
     "execution_count": 6,
     "metadata": {},
     "output_type": "execute_result"
    }
   ],
   "source": [
    "class AlexNet(nn.Module):\n",
    "    def __init__(self, num_classes=1000):\n",
    "        super(AlexNet, self).__init__()\n",
    "        self.features = nn.Sequential(\n",
    "            nn.Conv2d(3, 96, kernel_size=11, stride=4, padding=2), # (55, 55, 96)\n",
    "            nn.ReLU(inplace=True),\n",
    "            nn.MaxPool2d(kernel_size=3, stride=2), # (27, 27, 96)\n",
    "            nn.Conv2d(96, 256, kernel_size=5, padding=2), # (27, 27, 256)\n",
    "            nn.ReLU(inplace=True),\n",
    "            nn.MaxPool2d(kernel_size=3, stride=2), # (13, 13, 256)\n",
    "            nn.Conv2d(256, 384, kernel_size=3, stride=1, padding=1), # (13, 13, 384)\n",
    "            nn.ReLU(inplace=True),\n",
    "            nn.Conv2d(384, 384, kernel_size=3, padding=1), # (13, 13, 384)\n",
    "            nn.ReLU(inplace=True),\n",
    "            nn.Conv2d(384, 256, kernel_size=3, padding=1), # (13, 13, 256)\n",
    "            nn.ReLU(inplace=True),\n",
    "            nn.MaxPool2d(kernel_size=3, stride=2) # (6, 6, 256) = 9216 features\n",
    "        )\n",
    "        \n",
    "        self.classifier = nn.Sequential(\n",
    "            nn.Dropout(),\n",
    "            nn.Linear(256 * 6 * 6, 4096),\n",
    "            nn.ReLU(inplace=True),\n",
    "            nn.Dropout(),\n",
    "            nn.Linear(4096, 4096),\n",
    "            nn.ReLU(inplace=True),\n",
    "            nn.Linear(4096, num_classes)\n",
    "        )\n",
    "        \n",
    "    def forward(self, x):\n",
    "        x = self.features(x)\n",
    "        x = x.flatten(1)\n",
    "        x = self.classifier(x)\n",
    "        return x\n",
    "    \n",
    "summary(AlexNet(), input_size=(64, 3, 224, 224))"
   ]
  },
  {
   "cell_type": "markdown",
   "id": "4dc6a445",
   "metadata": {},
   "source": [
    "## Small AlexNet for chess squares"
   ]
  },
  {
   "cell_type": "code",
   "execution_count": 14,
   "id": "56905af2",
   "metadata": {},
   "outputs": [
    {
     "name": "stdout",
     "output_type": "stream",
     "text": [
      "Output features size: torch.Size([256, 5, 5])\n",
      "Output features size: 6400\n"
     ]
    },
    {
     "data": {
      "text/plain": [
       "=================================================================\n",
       "Layer (type:depth-idx)                   Param #\n",
       "=================================================================\n",
       "SmallAlexNet                             --\n",
       "├─Sequential: 1-1                        --\n",
       "│    └─Conv2d: 2-1                       34,944\n",
       "│    └─ReLU: 2-2                         --\n",
       "│    └─MaxPool2d: 2-3                    --\n",
       "│    └─Conv2d: 2-4                       614,656\n",
       "│    └─ReLU: 2-5                         --\n",
       "│    └─MaxPool2d: 2-6                    --\n",
       "│    └─Conv2d: 2-7                       885,120\n",
       "│    └─ReLU: 2-8                         --\n",
       "│    └─Conv2d: 2-9                       1,327,488\n",
       "│    └─ReLU: 2-10                        --\n",
       "│    └─Conv2d: 2-11                      884,992\n",
       "│    └─ReLU: 2-12                        --\n",
       "│    └─MaxPool2d: 2-13                   --\n",
       "├─Sequential: 1-2                        --\n",
       "│    └─Dropout: 2-14                     --\n",
       "│    └─Linear: 2-15                      26,218,496\n",
       "│    └─ReLU: 2-16                        --\n",
       "│    └─Dropout: 2-17                     --\n",
       "│    └─Linear: 2-18                      16,781,312\n",
       "│    └─ReLU: 2-19                        --\n",
       "│    └─Linear: 2-20                      53,261\n",
       "=================================================================\n",
       "Total params: 46,800,269\n",
       "Trainable params: 46,800,269\n",
       "Non-trainable params: 0\n",
       "================================================================="
      ]
     },
     "execution_count": 14,
     "metadata": {},
     "output_type": "execute_result"
    }
   ],
   "source": [
    "class SmallAlexNet(nn.Module):\n",
    "    def __init__(self, num_classes=13, input_size=(3, 60, 60)):\n",
    "        super(SmallAlexNet, self).__init__()\n",
    "        self.features = nn.Sequential(\n",
    "            nn.Conv2d(3, 96, kernel_size=11, stride=1, padding=2), # (54, 54, 96)\n",
    "            nn.ReLU(inplace=True),\n",
    "            nn.MaxPool2d(kernel_size=3, stride=2), # (26, 26, 96)\n",
    "            nn.Conv2d(96, 256, kernel_size=5, padding=2), # (26, 26, 256)\n",
    "            nn.ReLU(inplace=True),\n",
    "            nn.MaxPool2d(kernel_size=3, stride=2), # (12, 12, 256)\n",
    "            nn.Conv2d(256, 384, kernel_size=3, stride=1, padding=1), # (12, 12, 384)\n",
    "            nn.ReLU(inplace=True),\n",
    "            nn.Conv2d(384, 384, kernel_size=3, padding=1), # (12, 12, 384)\n",
    "            nn.ReLU(inplace=True),\n",
    "            nn.Conv2d(384, 256, kernel_size=3, padding=1), # (12, 12, 256)\n",
    "            nn.ReLU(inplace=True),\n",
    "            nn.MaxPool2d(kernel_size=3, stride=2) # (5, 5, 256) = 6400 features\n",
    "        )\n",
    "        \n",
    "        with torch.no_grad():\n",
    "            # Calculate the output size after the feature extractor\n",
    "            sample_input = torch.zeros(1, *input_size)\n",
    "            output_features_shape = self.features(sample_input).shape[1:]\n",
    "            \n",
    "        output_features_size = np.prod(output_features_shape)\n",
    "        print(\"Output features size:\", output_features_shape)\n",
    "        print(\"Output features size:\", output_features_size)\n",
    "        \n",
    "        self.classifier = nn.Sequential(\n",
    "            nn.Dropout(),\n",
    "            nn.Linear(output_features_size, 4096),\n",
    "            nn.ReLU(inplace=True),\n",
    "            nn.Dropout(),\n",
    "            nn.Linear(4096, 4096),\n",
    "            nn.ReLU(inplace=True),\n",
    "            nn.Linear(4096, num_classes)\n",
    "        )\n",
    "        \n",
    "    def forward(self, x):\n",
    "        x = self.features(x)\n",
    "        x = x.flatten(1)\n",
    "        x = self.classifier(x)\n",
    "        return x\n",
    "    \n",
    "model = SmallAlexNet(num_classes=13, input_size=(3, 60, 60))\n",
    "summary(model)"
   ]
  },
  {
   "cell_type": "code",
   "execution_count": 15,
   "id": "1617c5a9",
   "metadata": {},
   "outputs": [
    {
     "name": "stdout",
     "output_type": "stream",
     "text": [
      "Input batch shape: torch.Size([64, 3, 60, 60]) <class 'torch.Tensor'>\n",
      "Labels batch shape: 64 <class 'torch.Tensor'>\n",
      "tensor([0, 0, 0])\n",
      "Predicted batch shape: torch.Size([64, 13])\n",
      "tensor([ 0.0167, -0.0084,  0.0027,  0.0059,  0.0028, -0.0104, -0.0044, -0.0021,\n",
      "         0.0076, -0.0059,  0.0107, -0.0038,  0.0077],\n",
      "       grad_fn=<SelectBackward0>)\n"
     ]
    }
   ],
   "source": [
    "X, y = next(iter(train_dataloader))\n",
    "print(f\"Input batch shape: {X.shape} {type(X)}\")\n",
    "print(f\"Labels batch shape: {len(y)} {type(y[0])}\")\n",
    "\n",
    "print(y[0:3])\n",
    "\n",
    "y_pred = model(X)\n",
    "print(f\"Predicted batch shape: {y_pred.shape}\")\n",
    "print(y_pred[0])"
   ]
  },
  {
   "cell_type": "markdown",
   "id": "694e5d02",
   "metadata": {},
   "source": [
    "# Training"
   ]
  },
  {
   "cell_type": "code",
   "execution_count": 16,
   "id": "623e4653",
   "metadata": {},
   "outputs": [],
   "source": [
    "def train_loop(dataloader, model, loss_fn, optimizer, device):\n",
    "    size = len(dataloader.dataset)\n",
    "    model.train() # Set model to training mode\n",
    "    \n",
    "    train_loss, correct = 0, 0\n",
    "    \n",
    "    for batch, (X, y) in enumerate(dataloader):\n",
    "        X, y = X.to(device), y.to(device)\n",
    "        # Forward pass\n",
    "        pred = model(X)\n",
    "        loss = loss_fn(pred, y)\n",
    "\n",
    "        # Backward pass\n",
    "        optimizer.zero_grad()\n",
    "        loss.backward()\n",
    "        optimizer.step()\n",
    "        \n",
    "        train_loss += loss.item()\n",
    "        correct += (pred.argmax(1) == y).type(torch.float).sum().item()\n",
    "        \n",
    "        # Log progress every 10 batches\n",
    "        if batch % 10 == 0:\n",
    "            loss, current = loss.item(), batch * len(X)\n",
    "            print(f\"loss: {loss:>7f} [{current:>5d}/{size:>5d}]\")\n",
    "            \n",
    "    avg_train_loss = train_loss / len(dataloader)\n",
    "    train_accuracy = correct / size\n",
    "    \n",
    "    return avg_train_loss, train_accuracy\n",
    "            \n",
    "            \n",
    "def test_loop(dataloader, model, loss_fn, device):\n",
    "    model.eval()  # Set model to evaluation mode\n",
    "    size = len(dataloader.dataset)\n",
    "    num_batches = len(dataloader)\n",
    "    test_loss, correct = 0, 0\n",
    "    \n",
    "    with torch.no_grad():\n",
    "        for X, y in dataloader:\n",
    "            X, y = X.to(device), y.to(device)\n",
    "            pred = model(X) # Get logits (no probabilities)\n",
    "            test_loss += loss_fn(pred, y).item()\n",
    "            correct += (pred.argmax(1) == y).type(torch.float).sum().item()\n",
    "            \n",
    "    avg_test_loss = test_loss / num_batches\n",
    "    test_accuracy = correct / size\n",
    "    \n",
    "    print(f\"Test Error: Accuracy: {avg_test_loss:.4f}, Avg loss: {avg_test_loss:.4f} \\n\")\n",
    "    \n",
    "    return avg_test_loss, test_accuracy\n",
    "    \n",
    "    \n",
    "def train_model(model, train_dataloader, test_dataloader, device, num_epochs=10, learning_rate=1e-3):\n",
    "    loss_fn = nn.CrossEntropyLoss() # Applies softmax so no need to do add softmax to the model output\n",
    "    optimizer = torch.optim.Adam(model.parameters(), lr=learning_rate)\n",
    "    \n",
    "    # Log hyperparameters\n",
    "    mlflow.log_param(\"num_epochs\", num_epochs)\n",
    "    mlflow.log_param(\"learning_rate\", learning_rate)\n",
    "\n",
    "    # Best model accuracy\n",
    "    best_test_accuracy = 0.0\n",
    "\n",
    "    #for epoch in tqdm(range(num_epochs), desc=\"Training\"):\n",
    "    for epoch in range(num_epochs):\n",
    "        print(f\"Epoch {epoch+1:>4d}/{num_epochs:>4d}\\n-------------------------------\")\n",
    "\n",
    "        avg_train_loss, avg_train_accuracy = train_loop(train_dataloader, model, loss_fn, optimizer, device)\n",
    "        avg_test_loss, avg_test_accuracy = test_loop(test_dataloader, model, loss_fn, device)\n",
    "\n",
    "        print(f\"Avg Train Loss: {avg_train_loss:.4f}, Avg Test Loss: {avg_test_loss:.4f}\")\n",
    "        print(f\"Avg Train Accuracy: {avg_train_accuracy:.4f}, Avg Test Accuracy: {avg_test_accuracy:.4f}\\n\")\n",
    "        \n",
    "        # Log metrics for each epoch\n",
    "        mlflow.log_metric(\"avg_train_loss\", avg_train_loss, step=epoch)\n",
    "        mlflow.log_metric(\"avg_test_loss\", avg_test_loss, step=epoch)\n",
    "        mlflow.log_metric(\"train_accuracy\", avg_train_accuracy, step=epoch)\n",
    "        mlflow.log_metric(\"test_accuracy\", avg_test_accuracy, step=epoch)\n",
    "\n",
    "        # Save best model\n",
    "        if avg_test_accuracy > best_test_accuracy:\n",
    "            best_test_accuracy = avg_test_accuracy\n",
    "            mlflow.pytorch.log_model(model, \"best_model\")\n",
    "            print(f\"Best model updated at epoch {epoch+1} with test accuracy {best_test_accuracy:.4f}\")\n",
    "\n",
    "    # Log the trained model\n",
    "    mlflow.pytorch.log_model(model, \"last_model\")\n",
    "\n",
    "    print(\"Done!\")\n",
    "    \n",
    "# def train_model(model, train_dataloader, test_dataloader, device, num_epochs=10, learning_rate=1e-3):\n",
    "#     loss_fn = nn.CrossEntropyLoss() # Applies softmax so no need to do add softmax to the model output\n",
    "#     optimizer = torch.optim.Adam(model.parameters(), lr=learning_rate)\n",
    "\n",
    "#     #for epoch in tqdm(range(num_epochs), desc=\"Training\"):\n",
    "#     for epoch in range(num_epochs):\n",
    "#         print(f\"Epoch {epoch+1:>4d}/{num_epochs:>4d}\\n-------------------------------\")\n",
    "\n",
    "#         avg_train_loss, avg_train_accuracy = train_loop(train_dataloader, model, loss_fn, optimizer, device)\n",
    "#         avg_test_loss, avg_test_accuracy = test_loop(test_dataloader, model, loss_fn, device)\n",
    "\n",
    "#         print(f\"Avg Train Loss: {avg_train_loss:.4f}, Avg Test Loss: {avg_test_loss:.4f}\")\n",
    "#         print(f\"Avg Train Accuracy: {avg_train_accuracy:.4f}, Avg Test Accuracy: {avg_test_accuracy:.4f}\\n\")\n",
    "    \n",
    "#     print(\"Done!\")"
   ]
  },
  {
   "cell_type": "markdown",
   "id": "6a75e53e",
   "metadata": {},
   "source": [
    "- [MLflow documentation](https://mlflow.org/docs/latest/ml/deep-learning/pytorch/)"
   ]
  },
  {
   "cell_type": "code",
   "execution_count": 17,
   "id": "dcf97593",
   "metadata": {},
   "outputs": [
    {
     "name": "stdout",
     "output_type": "stream",
     "text": [
      "Using device: mps\n",
      "Mlruns dir:  /Users/alexquiroga/Storage/Github/DEEP_LEARNING/COMPUTER_VISION/chess-vision/chess-main/data/mlruns\n",
      "Epoch    1/   3\n",
      "-------------------------------\n",
      "loss: 2.554519 [    0/41472]\n",
      "loss: 2.302640 [  640/41472]\n",
      "loss: 1.613847 [ 1280/41472]\n",
      "loss: 1.190234 [ 1920/41472]\n",
      "loss: 1.487871 [ 2560/41472]\n",
      "loss: 0.974674 [ 3200/41472]\n",
      "loss: 0.983069 [ 3840/41472]\n",
      "loss: 0.753405 [ 4480/41472]\n",
      "loss: 0.788526 [ 5120/41472]\n",
      "loss: 0.600410 [ 5760/41472]\n",
      "loss: 0.611601 [ 6400/41472]\n",
      "loss: 0.670959 [ 7040/41472]\n",
      "loss: 0.712028 [ 7680/41472]\n",
      "loss: 0.742381 [ 8320/41472]\n",
      "loss: 0.614939 [ 8960/41472]\n",
      "loss: 0.413227 [ 9600/41472]\n",
      "loss: 0.313324 [10240/41472]\n",
      "loss: 0.222872 [10880/41472]\n",
      "loss: 0.207201 [11520/41472]\n",
      "loss: 0.255803 [12160/41472]\n",
      "loss: 0.193713 [12800/41472]\n",
      "loss: 0.158506 [13440/41472]\n",
      "loss: 0.311465 [14080/41472]\n",
      "loss: 0.159136 [14720/41472]\n",
      "loss: 0.206450 [15360/41472]\n",
      "loss: 0.366396 [16000/41472]\n",
      "loss: 0.220850 [16640/41472]\n",
      "loss: 0.248554 [17280/41472]\n",
      "loss: 0.107338 [17920/41472]\n",
      "loss: 0.164280 [18560/41472]\n",
      "loss: 0.082699 [19200/41472]\n",
      "loss: 0.127599 [19840/41472]\n",
      "loss: 0.074162 [20480/41472]\n",
      "loss: 0.088437 [21120/41472]\n",
      "loss: 0.016827 [21760/41472]\n",
      "loss: 0.113607 [22400/41472]\n",
      "loss: 0.075334 [23040/41472]\n",
      "loss: 0.033855 [23680/41472]\n",
      "loss: 0.047087 [24320/41472]\n",
      "loss: 0.025409 [24960/41472]\n",
      "loss: 0.060077 [25600/41472]\n",
      "loss: 0.052851 [26240/41472]\n",
      "loss: 0.037614 [26880/41472]\n",
      "loss: 0.004526 [27520/41472]\n",
      "loss: 0.046117 [28160/41472]\n",
      "loss: 0.011362 [28800/41472]\n",
      "loss: 0.002096 [29440/41472]\n",
      "loss: 0.000887 [30080/41472]\n",
      "loss: 0.172310 [30720/41472]\n",
      "loss: 0.000146 [31360/41472]\n",
      "loss: 0.083716 [32000/41472]\n",
      "loss: 0.013408 [32640/41472]\n",
      "loss: 0.004238 [33280/41472]\n",
      "loss: 0.055466 [33920/41472]\n",
      "loss: 0.000005 [34560/41472]\n",
      "loss: 0.004826 [35200/41472]\n",
      "loss: 0.003899 [35840/41472]\n",
      "loss: 0.035096 [36480/41472]\n",
      "loss: 0.005567 [37120/41472]\n",
      "loss: 0.008073 [37760/41472]\n",
      "loss: 0.005611 [38400/41472]\n",
      "loss: 0.015896 [39040/41472]\n",
      "loss: 0.030417 [39680/41472]\n",
      "loss: 0.003703 [40320/41472]\n",
      "loss: 3.631657 [40960/41472]\n"
     ]
    },
    {
     "name": "stderr",
     "output_type": "stream",
     "text": [
      "2025/08/14 23:04:08 WARNING mlflow.models.model: `artifact_path` is deprecated. Please use `name` instead.\n"
     ]
    },
    {
     "name": "stdout",
     "output_type": "stream",
     "text": [
      "Test Error: Accuracy: 0.2965, Avg loss: 0.2965 \n",
      "\n",
      "Avg Train Loss: 0.3469, Avg Test Loss: 0.2965\n",
      "Avg Train Accuracy: 0.9003, Avg Test Accuracy: 0.9096\n",
      "\n"
     ]
    },
    {
     "name": "stderr",
     "output_type": "stream",
     "text": [
      "\u001b[31m2025/08/14 23:04:10 WARNING mlflow.models.model: Model logged without a signature and input example. Please set `input_example` parameter when logging the model to auto infer the model signature.\u001b[0m\n"
     ]
    },
    {
     "name": "stdout",
     "output_type": "stream",
     "text": [
      "Best model updated at epoch 1 with test accuracy 0.9096\n",
      "Epoch    2/   3\n",
      "-------------------------------\n",
      "loss: 0.268683 [    0/41472]\n",
      "loss: 0.163630 [  640/41472]\n",
      "loss: 0.112111 [ 1280/41472]\n",
      "loss: 0.046267 [ 1920/41472]\n",
      "loss: 0.029746 [ 2560/41472]\n",
      "loss: 0.006650 [ 3200/41472]\n",
      "loss: 0.000096 [ 3840/41472]\n",
      "loss: 0.014914 [ 4480/41472]\n",
      "loss: 0.031630 [ 5120/41472]\n",
      "loss: 0.003216 [ 5760/41472]\n",
      "loss: 0.001702 [ 6400/41472]\n",
      "loss: 0.037729 [ 7040/41472]\n",
      "loss: 0.001873 [ 7680/41472]\n",
      "loss: 0.040028 [ 8320/41472]\n",
      "loss: 0.013858 [ 8960/41472]\n",
      "loss: 0.006063 [ 9600/41472]\n",
      "loss: 0.000102 [10240/41472]\n",
      "loss: 0.017643 [10880/41472]\n",
      "loss: 0.002187 [11520/41472]\n",
      "loss: 0.018431 [12160/41472]\n",
      "loss: 0.056624 [12800/41472]\n",
      "loss: 0.034350 [13440/41472]\n",
      "loss: 0.004563 [14080/41472]\n",
      "loss: 0.001700 [14720/41472]\n",
      "loss: 0.000032 [15360/41472]\n",
      "loss: 0.020470 [16000/41472]\n",
      "loss: 0.053258 [16640/41472]\n",
      "loss: 0.042266 [17280/41472]\n",
      "loss: 0.000053 [17920/41472]\n",
      "loss: 0.016878 [18560/41472]\n",
      "loss: 0.000018 [19200/41472]\n",
      "loss: 0.000548 [19840/41472]\n",
      "loss: 0.003298 [20480/41472]\n",
      "loss: 0.000998 [21120/41472]\n",
      "loss: 0.002944 [21760/41472]\n",
      "loss: 0.000626 [22400/41472]\n",
      "loss: 0.000256 [23040/41472]\n",
      "loss: 0.002662 [23680/41472]\n",
      "loss: 0.008790 [24320/41472]\n",
      "loss: 0.000248 [24960/41472]\n",
      "loss: 0.000316 [25600/41472]\n",
      "loss: 0.012066 [26240/41472]\n",
      "loss: 0.005229 [26880/41472]\n",
      "loss: 0.003447 [27520/41472]\n",
      "loss: 0.027544 [28160/41472]\n",
      "loss: 0.012585 [28800/41472]\n",
      "loss: 0.000215 [29440/41472]\n",
      "loss: 0.000106 [30080/41472]\n",
      "loss: 0.000253 [30720/41472]\n",
      "loss: 0.001828 [31360/41472]\n",
      "loss: 0.000002 [32000/41472]\n",
      "loss: 0.000783 [32640/41472]\n",
      "loss: 0.000365 [33280/41472]\n",
      "loss: 0.001740 [33920/41472]\n",
      "loss: 0.000274 [34560/41472]\n",
      "loss: 0.003966 [35200/41472]\n",
      "loss: 0.028969 [35840/41472]\n",
      "loss: 0.000006 [36480/41472]\n",
      "loss: 0.000046 [37120/41472]\n",
      "loss: 0.000177 [37760/41472]\n",
      "loss: 0.000098 [38400/41472]\n",
      "loss: 0.000041 [39040/41472]\n",
      "loss: 0.002660 [39680/41472]\n",
      "loss: 0.000872 [40320/41472]\n",
      "loss: 0.000024 [40960/41472]\n"
     ]
    },
    {
     "name": "stderr",
     "output_type": "stream",
     "text": [
      "2025/08/14 23:09:20 WARNING mlflow.models.model: `artifact_path` is deprecated. Please use `name` instead.\n"
     ]
    },
    {
     "name": "stdout",
     "output_type": "stream",
     "text": [
      "Test Error: Accuracy: 0.0006, Avg loss: 0.0006 \n",
      "\n",
      "Avg Train Loss: 0.0218, Avg Test Loss: 0.0006\n",
      "Avg Train Accuracy: 0.9937, Avg Test Accuracy: 1.0000\n",
      "\n"
     ]
    },
    {
     "name": "stderr",
     "output_type": "stream",
     "text": [
      "\u001b[31m2025/08/14 23:09:23 WARNING mlflow.models.model: Model logged without a signature and input example. Please set `input_example` parameter when logging the model to auto infer the model signature.\u001b[0m\n"
     ]
    },
    {
     "name": "stdout",
     "output_type": "stream",
     "text": [
      "Best model updated at epoch 2 with test accuracy 1.0000\n",
      "Epoch    3/   3\n",
      "-------------------------------\n",
      "loss: 0.000004 [    0/41472]\n",
      "loss: 0.017510 [  640/41472]\n",
      "loss: 0.015021 [ 1280/41472]\n",
      "loss: 0.000000 [ 1920/41472]\n",
      "loss: 0.005602 [ 2560/41472]\n",
      "loss: 0.000031 [ 3200/41472]\n",
      "loss: 0.000007 [ 3840/41472]\n",
      "loss: 0.000577 [ 4480/41472]\n",
      "loss: 0.001655 [ 5120/41472]\n",
      "loss: 0.000004 [ 5760/41472]\n",
      "loss: 0.000163 [ 6400/41472]\n",
      "loss: 0.000122 [ 7040/41472]\n",
      "loss: 0.002824 [ 7680/41472]\n",
      "loss: 0.000000 [ 8320/41472]\n",
      "loss: 0.000021 [ 8960/41472]\n",
      "loss: 0.000029 [ 9600/41472]\n",
      "loss: 0.000011 [10240/41472]\n",
      "loss: 0.000094 [10880/41472]\n",
      "loss: 0.000103 [11520/41472]\n",
      "loss: 0.000011 [12160/41472]\n",
      "loss: 0.000000 [12800/41472]\n",
      "loss: 0.000003 [13440/41472]\n",
      "loss: 0.000026 [14080/41472]\n",
      "loss: 0.000081 [14720/41472]\n",
      "loss: 0.005841 [15360/41472]\n",
      "loss: 0.000107 [16000/41472]\n",
      "loss: 0.004443 [16640/41472]\n",
      "loss: 0.000746 [17280/41472]\n",
      "loss: 0.002430 [17920/41472]\n",
      "loss: 0.001555 [18560/41472]\n",
      "loss: 0.000584 [19200/41472]\n",
      "loss: 0.000013 [19840/41472]\n",
      "loss: 0.010381 [20480/41472]\n",
      "loss: 0.003518 [21120/41472]\n",
      "loss: 0.000134 [21760/41472]\n",
      "loss: 0.005259 [22400/41472]\n",
      "loss: 0.000078 [23040/41472]\n",
      "loss: 0.000071 [23680/41472]\n",
      "loss: 0.000196 [24320/41472]\n",
      "loss: 0.000313 [24960/41472]\n",
      "loss: 0.000025 [25600/41472]\n",
      "loss: 0.000326 [26240/41472]\n",
      "loss: 0.000002 [26880/41472]\n",
      "loss: 0.000002 [27520/41472]\n",
      "loss: 0.000011 [28160/41472]\n",
      "loss: 0.000259 [28800/41472]\n",
      "loss: 0.000005 [29440/41472]\n",
      "loss: 0.000242 [30080/41472]\n",
      "loss: 0.000002 [30720/41472]\n",
      "loss: 0.000365 [31360/41472]\n",
      "loss: 0.000540 [32000/41472]\n",
      "loss: 0.000002 [32640/41472]\n",
      "loss: 0.000344 [33280/41472]\n",
      "loss: 0.000001 [33920/41472]\n",
      "loss: 0.000212 [34560/41472]\n",
      "loss: 0.000001 [35200/41472]\n",
      "loss: 0.000024 [35840/41472]\n",
      "loss: 0.000224 [36480/41472]\n",
      "loss: 0.000003 [37120/41472]\n",
      "loss: 0.004576 [37760/41472]\n",
      "loss: 0.000002 [38400/41472]\n",
      "loss: 0.000120 [39040/41472]\n",
      "loss: 0.000001 [39680/41472]\n",
      "loss: 0.000000 [40320/41472]\n",
      "loss: 0.000049 [40960/41472]\n"
     ]
    },
    {
     "name": "stderr",
     "output_type": "stream",
     "text": [
      "2025/08/14 23:15:11 WARNING mlflow.models.model: `artifact_path` is deprecated. Please use `name` instead.\n"
     ]
    },
    {
     "name": "stdout",
     "output_type": "stream",
     "text": [
      "Test Error: Accuracy: 0.0000, Avg loss: 0.0000 \n",
      "\n",
      "Avg Train Loss: 0.0023, Avg Test Loss: 0.0000\n",
      "Avg Train Accuracy: 0.9994, Avg Test Accuracy: 1.0000\n",
      "\n"
     ]
    },
    {
     "name": "stderr",
     "output_type": "stream",
     "text": [
      "\u001b[31m2025/08/14 23:15:14 WARNING mlflow.models.model: Model logged without a signature and input example. Please set `input_example` parameter when logging the model to auto infer the model signature.\u001b[0m\n"
     ]
    },
    {
     "name": "stdout",
     "output_type": "stream",
     "text": [
      "Done!\n"
     ]
    }
   ],
   "source": [
    "if torch.cuda.is_available():\n",
    "    device = torch.device(\"cuda\")\n",
    "elif torch.backends.mps.is_available():\n",
    "    device = torch.device(\"mps\")  # Apple GPU\n",
    "else:\n",
    "    device = torch.device(\"cpu\")\n",
    "\n",
    "print(f\"Using device: {device}\")\n",
    "\n",
    "# Set experiment\n",
    "mlflow.set_experiment(\"Chess2dRenderedModelAug\")\n",
    "\n",
    "# Set save directory\n",
    "current_dir = pathlib.Path.cwd()\n",
    "base_dir = current_dir.parent\n",
    "mlruns_dir = base_dir / \"data\" / \"mlruns\"\n",
    "print(\"Mlruns dir: \", mlruns_dir)\n",
    "mlflow.set_tracking_uri(\"file://\" + str(mlruns_dir))\n",
    "\n",
    "# Training and logging\n",
    "with mlflow.start_run():\n",
    "\n",
    "    # Create and prepare model\n",
    "    model = model.to(device)\n",
    "\n",
    "    # Train the model\n",
    "    train_model(model, train_dataloader, test_dataloader, device = device, num_epochs=3, learning_rate=1e-3)"
   ]
  },
  {
   "cell_type": "markdown",
   "id": "d08afdca",
   "metadata": {},
   "source": [
    "# Test model"
   ]
  },
  {
   "cell_type": "code",
   "execution_count": 18,
   "id": "eff27437",
   "metadata": {},
   "outputs": [
    {
     "name": "stdout",
     "output_type": "stream",
     "text": [
      "{0: '0',\n",
      " 1: 'B',\n",
      " 2: 'K',\n",
      " 3: 'N',\n",
      " 4: 'P',\n",
      " 5: 'Q',\n",
      " 6: 'R',\n",
      " 7: 'b',\n",
      " 8: 'k',\n",
      " 9: 'n',\n",
      " 10: 'p',\n",
      " 11: 'q',\n",
      " 12: 'r'}\n",
      "['0', 'B', 'K', 'N', 'P', 'Q', 'R', 'b', 'k', 'n', 'p', 'q', 'r']\n"
     ]
    }
   ],
   "source": [
    "#DATASET_NAME = \"chessboard_2d_rendered\"\n",
    "DATASET_NAME = \"chessboard_2d_rendered_aug\"\n",
    "\n",
    "current_dir = pathlib.Path.cwd()\n",
    "base_dir = current_dir.parent\n",
    "dataset_dir = base_dir / \"data\" / DATASET_NAME\n",
    "labels_mapping_path = dataset_dir / \"labels_mapping.json\"\n",
    "\n",
    "with open(labels_mapping_path, 'r') as f:\n",
    "    labels_map = json.load(f)\n",
    "\n",
    "id2label = labels_map[\"id2class\"]\n",
    "\n",
    "# Convert keys to int\n",
    "id2label = {int(k): v for k, v in id2label.items()}\n",
    "\n",
    "pprint(id2label)\n",
    "\n",
    "class_names = [id2label[i] for i in sorted(id2label.keys())]\n",
    "\n",
    "pprint(class_names)"
   ]
  },
  {
   "cell_type": "markdown",
   "id": "94254f20",
   "metadata": {},
   "source": [
    "Single chessboard and no blur dataset model"
   ]
  },
  {
   "cell_type": "code",
   "execution_count": 18,
   "id": "757e4cef",
   "metadata": {},
   "outputs": [
    {
     "name": "stderr",
     "output_type": "stream",
     "text": [
      "Downloading artifacts:   0%|          | 0/1 [00:00<?, ?it/s]\n",
      "Downloading artifacts: 100%|██████████| 6/6 [00:00<00:00, 70.62it/s]   \n"
     ]
    }
   ],
   "source": [
    "# Load model from mlflow\n",
    "mlruns_dir = str(pathlib.Path.cwd().parent / \"data\" / \"mlruns\")\n",
    "mlflow.set_tracking_uri(\"file://\" + mlruns_dir)\n",
    "run_id = \"4deab14be91f40289414ecd5304923e6\"\n",
    "model = mlflow.pytorch.load_model(\"runs:/\" + run_id + \"/best_model\")"
   ]
  },
  {
   "cell_type": "markdown",
   "id": "4ae553eb",
   "metadata": {},
   "source": [
    "Multiple chessboards and blur dataset model"
   ]
  },
  {
   "cell_type": "code",
   "execution_count": 19,
   "id": "348e2147",
   "metadata": {},
   "outputs": [
    {
     "name": "stderr",
     "output_type": "stream",
     "text": [
      "/Users/alexquiroga/anaconda3/envs/computer_vision/lib/python3.12/site-packages/tqdm/auto.py:21: TqdmWarning: IProgress not found. Please update jupyter and ipywidgets. See https://ipywidgets.readthedocs.io/en/stable/user_install.html\n",
      "  from .autonotebook import tqdm as notebook_tqdm\n",
      "Downloading artifacts:   0%|          | 0/1 [00:00<?, ?it/s]\n",
      "Downloading artifacts: 100%|██████████| 6/6 [00:00<00:00, 63.06it/s]   \n"
     ]
    }
   ],
   "source": [
    "# Load model from mlflow\n",
    "mlruns_dir = str(pathlib.Path.cwd().parent / \"data\" / \"mlruns\")\n",
    "mlflow.set_tracking_uri(\"file://\" + mlruns_dir)\n",
    "run_id = \"36aa38a2ba8a41a5841265e48c030eea\"\n",
    "model = mlflow.pytorch.load_model(\"runs:/\" + run_id + \"/best_model\")"
   ]
  },
  {
   "cell_type": "code",
   "execution_count": 20,
   "id": "5b64ad06",
   "metadata": {},
   "outputs": [
    {
     "name": "stdout",
     "output_type": "stream",
     "text": [
      "Using device: mps\n"
     ]
    }
   ],
   "source": [
    "if torch.cuda.is_available():\n",
    "    device = torch.device(\"cuda\")\n",
    "elif torch.backends.mps.is_available():\n",
    "    device = torch.device(\"mps\")  # Apple GPU\n",
    "else:\n",
    "    device = torch.device(\"cpu\")\n",
    "\n",
    "print(f\"Using device: {device}\")"
   ]
  },
  {
   "cell_type": "code",
   "execution_count": 21,
   "id": "df7e6e8e",
   "metadata": {},
   "outputs": [
    {
     "name": "stdout",
     "output_type": "stream",
     "text": [
      "Accuracy: 1.0000\n",
      "Precision: 1.0000\n",
      "Recall: 1.0000\n",
      "F1 Score: 1.0000\n",
      "Classification report: \n",
      "              precision    recall  f1-score   support\n",
      "\n",
      "           0       1.00      1.00      1.00      3028\n",
      "           1       1.00      1.00      1.00       139\n",
      "           2       1.00      1.00      1.00        79\n",
      "           3       1.00      1.00      1.00       101\n",
      "           4       1.00      1.00      1.00       490\n",
      "           5       1.00      1.00      1.00        66\n",
      "           6       1.00      1.00      1.00       141\n",
      "           7       1.00      1.00      1.00       128\n",
      "           8       1.00      1.00      1.00        79\n",
      "           9       1.00      1.00      1.00        82\n",
      "          10       1.00      1.00      1.00       516\n",
      "          11       1.00      1.00      1.00        79\n",
      "          12       1.00      1.00      1.00       128\n",
      "\n",
      "    accuracy                           1.00      5056\n",
      "   macro avg       1.00      1.00      1.00      5056\n",
      "weighted avg       1.00      1.00      1.00      5056\n",
      "\n"
     ]
    },
    {
     "data": {
      "image/png": "[encoded data removed]",
      "text/plain": [
       "<Figure size 1000x700 with 2 Axes>"
      ]
     },
     "metadata": {},
     "output_type": "display_data"
    }
   ],
   "source": [
    "all_preds = []\n",
    "all_labels = []\n",
    "\n",
    "for batch, (X_test, y_test) in enumerate(test_dataloader):\n",
    "    X_test, y_test = X_test.to(device), y_test.to(device)\n",
    "    y_pred = model(X_test)\n",
    "    y_pred = y_pred.argmax(dim=1)\n",
    "\n",
    "    all_preds.extend(y_pred.cpu().numpy())\n",
    "    all_labels.extend(y_test.cpu().numpy())\n",
    "\n",
    "# Compute accuracy\n",
    "accuracy = accuracy_score(all_labels, all_preds)\n",
    "precision, recall, f1, _ = precision_recall_fscore_support(all_labels, all_preds, average='weighted')\n",
    "\n",
    "cm = confusion_matrix(all_labels, all_preds)\n",
    "\n",
    "print(f\"Accuracy: {accuracy:.4f}\")\n",
    "print(f\"Precision: {precision:.4f}\")\n",
    "print(f\"Recall: {recall:.4f}\")\n",
    "print(f\"F1 Score: {f1:.4f}\")\n",
    "\n",
    "print(\"Classification report: \")\n",
    "print(classification_report(all_labels, all_preds))\n",
    "\n",
    "plt.figure(figsize=(10, 7))\n",
    "sns.heatmap(cm, annot=True, fmt='d', cmap='Blues', xticklabels=class_names, yticklabels=class_names)\n",
    "plt.xlabel(\"Predicted\")\n",
    "plt.ylabel(\"True\")\n",
    "plt.title(\"Confusion Matrix\")\n",
    "plt.show()"
   ]
  }
 ],
 "metadata": {
  "kernelspec": {
   "display_name": "computer_vision",
   "language": "python",
   "name": "python3"
  },
  "language_info": {
   "codemirror_mode": {
    "name": "ipython",
    "version": 3
   },
   "file_extension": ".py",
   "mimetype": "text/x-python",
   "name": "python",
   "nbconvert_exporter": "python",
   "pygments_lexer": "ipython3",
   "version": "3.12.0"
  }
 },
 "nbformat": 4,
 "nbformat_minor": 5
}
