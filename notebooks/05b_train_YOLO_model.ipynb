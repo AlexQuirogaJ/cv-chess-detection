{
 "cells": [
  {
   "cell_type": "markdown",
   "id": "a7b55a1b",
   "metadata": {},
   "source": [
    "# Fine-tuning the YOLO model from Recorded Images"
   ]
  },
  {
   "cell_type": "markdown",
   "id": "7e2f7a59",
   "metadata": {},
   "source": [
    "# Requirements"
   ]
  },
  {
   "cell_type": "code",
   "execution_count": null,
   "id": "0f2b70e0",
   "metadata": {},
   "outputs": [],
   "source": [
    "!pip install roboflow\n",
    "!pip install ultralytics"
   ]
  },
  {
   "cell_type": "markdown",
   "id": "7f9e1e9c",
   "metadata": {},
   "source": [
    "# Download dataset from Roboflow"
   ]
  },
  {
   "cell_type": "code",
   "execution_count": null,
   "id": "00ae13b4",
   "metadata": {},
   "outputs": [],
   "source": [
    "import os\n",
    "import pathlib\n",
    "import shutil\n",
    "import torch\n",
    "from ultralytics import YOLO\n",
    "from roboflow import Roboflow\n",
    "from dotenv import load_dotenv\n",
    "\n",
    "load_dotenv()\n",
    "\n",
    "current_dir = pathlib.Path.cwd()\n",
    "ROOT_DIR = current_dir  # For Colab\n",
    "#ROOT_DIR = current_dir.parent # For local dev\n",
    "\n",
    "DATASET_DIR = ROOT_DIR / \"data\" / \"roboflow_chess_dataset\"\n",
    "EPOCHS = 100\n",
    "\n",
    "\n",
    "def download_dataset():\n",
    "    ROBOFLOW_API_KEY = os.getenv(\"ROBOFLOW_API_KEY\")\n",
    "\n",
    "    rf = Roboflow(api_key=ROBOFLOW_API_KEY)\n",
    "    project = rf.workspace(\"test-wzcdu\").project(\"chess-pieces-detection-camera-pxzh6\")\n",
    "    version = project.version(2)\n",
    "    dataset = version.download(\"yolov8\")\n",
    "\n",
    "    print(\"Original Dataset location: \", dataset.location)\n",
    "    print(\"Moving dataset to: \", DATASET_DIR)\n",
    "    shutil.move(dataset.location, str(DATASET_DIR))\n",
    "\n",
    "\n",
    "def train_yolo_model():\n",
    "\n",
    "    # Check if GPU/MPS is available\n",
    "    if torch.cuda.is_available():\n",
    "        device = \"cuda\"\n",
    "    elif torch.backends.mps.is_available():\n",
    "        device = \"mps\"\n",
    "    else:\n",
    "        device = \"cpu\"\n",
    "\n",
    "    # Load a pre-trained YOLO model (you can choose different sizes: yolov8n, yolov8s, yolov8m, yolov8l, yolov8x)\n",
    "    model = YOLO(\"yolov8s.pt\")\n",
    "\n",
    "    print(\"Using device: \", device)\n",
    "    print(\"Dataset file: \", os.path.join(str(DATASET_DIR), \"data.yaml\"))\n",
    "    print(\"Project: \", str(ROOT_DIR / \"models\" / \"yolo\" / \"finetuned\"))\n",
    "\n",
    "    # Train the model on the custom dataset\n",
    "    model.train(\n",
    "        data=os.path.join(str(DATASET_DIR), \"data.yaml\"),\n",
    "        epochs=EPOCHS,\n",
    "        imgsz=1216,  # Multiple of 32 (1216)\n",
    "        batch=3,\n",
    "        device=device,\n",
    "        project=str(ROOT_DIR / \"models\" / \"yolo\" / \"finetuned\"),\n",
    "        name=\"chess_yolov8m_finetuned\",\n",
    "        exist_ok=True,\n",
    "        # augment=False,\n",
    "        # plots=False,\n",
    "        # cache=False,\n",
    "        # workers=0,\n",
    "        # val=False,  # Skip validation initially\n",
    "    )\n",
    "\n",
    "    # Evaluate the model\n",
    "    results = model.val()\n",
    "    print(results)\n",
    "\n",
    "\n",
    "def train_with_cli():\n",
    "    import subprocess\n",
    "\n",
    "    cmd = [\n",
    "        \"yolo\",\n",
    "        \"train\",\n",
    "        f\"data={DATASET_DIR}/data.yaml\",\n",
    "        \"model=yolov8s.pt\",\n",
    "        \"epochs=1\",\n",
    "        \"imgsz=640\",\n",
    "        \"batch=1\",\n",
    "        f\"project={ROOT_DIR}/models/yolo/finetuned\",\n",
    "        \"name=chess_cli_test\",\n",
    "        \"exist_ok=True\",\n",
    "    ]\n",
    "\n",
    "    result = subprocess.run(cmd, capture_output=True, text=True)\n",
    "    print(\"STDOUT:\", result.stdout)\n",
    "    print(\"STDERR:\", result.stderr)\n",
    "    return result.returncode == 0"
   ]
  },
  {
   "cell_type": "code",
   "execution_count": null,
   "id": "bb684a5e",
   "metadata": {},
   "outputs": [],
   "source": [
    "download_dataset()    "
   ]
  },
  {
   "cell_type": "code",
   "execution_count": null,
   "id": "85c900e3",
   "metadata": {},
   "outputs": [],
   "source": [
    "train_yolo_model()"
   ]
  },
  {
   "cell_type": "markdown",
   "id": "af655ace",
   "metadata": {},
   "source": [
    "# Zip to download"
   ]
  },
  {
   "cell_type": "code",
   "execution_count": null,
   "id": "b32db83c",
   "metadata": {},
   "outputs": [],
   "source": [
    "!zip -r models.zip models/"
   ]
  },
  {
   "cell_type": "markdown",
   "id": "d9584ba8",
   "metadata": {},
   "source": [
    "# Fine-tuning cli"
   ]
  },
  {
   "cell_type": "code",
   "execution_count": null,
   "id": "f34d7bdb",
   "metadata": {},
   "outputs": [],
   "source": [
    "!yolo task=detect mode=train model=yolov8m data={dataset.location}/data.yaml epochs=100 imgsz=1000"
   ]
  }
 ],
 "metadata": {
  "kernelspec": {
   "display_name": "computer_vision",
   "language": "python",
   "name": "python3"
  },
  "language_info": {
   "codemirror_mode": {
    "name": "ipython",
    "version": 3
   },
   "file_extension": ".py",
   "mimetype": "text/x-python",
   "name": "python",
   "nbconvert_exporter": "python",
   "pygments_lexer": "ipython3",
   "version": "3.12.0"
  }
 },
 "nbformat": 4,
 "nbformat_minor": 5
}
