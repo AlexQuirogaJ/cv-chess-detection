{
 "cells": [
  {
   "cell_type": "markdown",
   "id": "9ef956fe",
   "metadata": {},
   "source": [
    "# Correct transparency"
   ]
  },
  {
   "cell_type": "code",
   "execution_count": 4,
   "id": "9edf9957",
   "metadata": {},
   "outputs": [],
   "source": [
    "import os\n",
    "from PIL import Image\n",
    "img_dir = \"chess_com_4\"\n",
    "\n",
    "for img_path in os.listdir(img_dir):\n",
    "    if img_path.endswith(\".png\"):\n",
    "        img = Image.open(os.path.join(img_dir, img_path)).convert(\"RGBA\")\n",
    "        \n",
    "        # Save\n",
    "        img.save(os.path.join(img_dir, img_path))"
   ]
  }
 ],
 "metadata": {
  "kernelspec": {
   "display_name": "computer_vision",
   "language": "python",
   "name": "python3"
  },
  "language_info": {
   "codemirror_mode": {
    "name": "ipython",
    "version": 3
   },
   "file_extension": ".py",
   "mimetype": "text/x-python",
   "name": "python",
   "nbconvert_exporter": "python",
   "pygments_lexer": "ipython3",
   "version": "3.12.0"
  }
 },
 "nbformat": 4,
 "nbformat_minor": 5
}
